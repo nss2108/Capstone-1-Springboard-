{
 "cells": [
  {
   "cell_type": "markdown",
   "metadata": {},
   "source": [
    "# Examining Racial Discrimination in the US Job Market\n",
    "\n",
    "### Background\n",
    "Racial discrimination continues to be pervasive in cultures throughout the world. Researchers examined the level of racial discrimination in the United States labor market by randomly assigning identical résumés to black-sounding or white-sounding names and observing the impact on requests for interviews from employers.\n",
    "\n",
    "### Data\n",
    "In the dataset provided, each row represents a resume. The 'race' column has two values, 'b' and 'w', indicating black-sounding and white-sounding. The column 'call' has two values, 1 and 0, indicating whether the resume received a call from employers or not.\n",
    "\n",
    "Note that the 'b' and 'w' values in race are assigned randomly to the resumes when presented to the employer."
   ]
  },
  {
   "cell_type": "markdown",
   "metadata": {},
   "source": [
    "<div class=\"span5 alert alert-info\">\n",
    "### Exercises\n",
    "You will perform a statistical analysis to establish whether race has a significant impact on the rate of callbacks for resumes.\n",
    "\n",
    "Answer the following questions **in this notebook below and submit to your Github account**. \n",
    "\n",
    "   1. What test is appropriate for this problem? Does CLT apply?\n",
    "   2. What are the null and alternate hypotheses?\n",
    "   3. Compute margin of error, confidence interval, and p-value.\n",
    "   4. Write a story describing the statistical significance in the context or the original problem.\n",
    "   5. Does your analysis mean that race/name is the most important factor in callback success? Why or why not? If not, how would you amend your analysis?\n",
    "\n",
    "You can include written notes in notebook cells using Markdown: \n",
    "   - In the control panel at the top, choose Cell > Cell Type > Markdown\n",
    "   - Markdown syntax: http://nestacms.com/docs/creating-content/markdown-cheat-sheet\n",
    "\n",
    "\n",
    "#### Resources\n",
    "+ Experiment information and data source: http://www.povertyactionlab.org/evaluation/discrimination-job-market-united-states\n",
    "+ Scipy statistical methods: http://docs.scipy.org/doc/scipy/reference/stats.html \n",
    "+ Markdown syntax: http://nestacms.com/docs/creating-content/markdown-cheat-sheet\n",
    "</div>\n",
    "****"
   ]
  },
  {
   "cell_type": "code",
   "execution_count": 1,
   "metadata": {
    "collapsed": true
   },
   "outputs": [],
   "source": [
    "import pandas as pd\n",
    "import numpy as np\n",
    "from scipy import stats\n",
    "import math"
   ]
  },
  {
   "cell_type": "code",
   "execution_count": 2,
   "metadata": {
    "collapsed": true
   },
   "outputs": [],
   "source": [
    "data = pd.io.stata.read_stata('data/us_job_market_discrimination.dta')"
   ]
  },
  {
   "cell_type": "code",
   "execution_count": 3,
   "metadata": {},
   "outputs": [
    {
     "data": {
      "text/plain": [
       "(157.0, 235.0)"
      ]
     },
     "execution_count": 3,
     "metadata": {},
     "output_type": "execute_result"
    }
   ],
   "source": [
    "# number of callbacks by race\n",
    "sum(data[data.race=='b'].call),sum(data[data.race=='w'].call) #identifies the number of call backs by race"
   ]
  },
  {
   "cell_type": "code",
   "execution_count": 8,
   "metadata": {},
   "outputs": [
    {
     "data": {
      "text/plain": [
       "(2435, 2435)"
      ]
     },
     "execution_count": 8,
     "metadata": {},
     "output_type": "execute_result"
    }
   ],
   "source": [
    "len(data[data.race=='b']),len(data[data.race=='w']) #ascertains that there are an equal number of applicants in the pool"
   ]
  },
  {
   "cell_type": "markdown",
   "metadata": {},
   "source": [
    "For this dataset, I used a chi-test, as these are categorical variables. It gave me a means to determine the degree to which the different outcomes are a result or random chance, or if some sort of structural racism is in place. \n",
    "* Null Hypothesis--Individuals with African American sounding names and individuals with white sounding names receive callbacks at the same rate\n",
    "* Alternate Hypothesis--Individuals with African American sounding names and individuals with white sounding names do not receive callbacks at the same rate.\n",
    "* The expected values I used were based on the number of total callbacks, and assumed a 50/50 rate of callback success. I plugged the actual and the expected into the chisquared method. "
   ]
  },
  {
   "cell_type": "code",
   "execution_count": 14,
   "metadata": {},
   "outputs": [
    {
     "data": {
      "text/plain": [
       "Power_divergenceResult(statistic=15.520408163265307, pvalue=8.1619303597043846e-05)"
      ]
     },
     "execution_count": 14,
     "metadata": {},
     "output_type": "execute_result"
    }
   ],
   "source": [
    "actual=np.array([157, 235])\n",
    "expected=np.array([196,196])\n",
    "stats.chisquare(actual, expected)"
   ]
  },
  {
   "cell_type": "markdown",
   "metadata": {},
   "source": [
    "This test had 1 degree of freedom and this chi squared stat was highly significant. Indeed, the p-value was less than 0.005. "
   ]
  },
  {
   "cell_type": "markdown",
   "metadata": {},
   "source": [
    "I next calculated the confidence interval at 95% confidence and the margin of error. I calculated it as a proportion of the whole. "
   ]
  },
  {
   "cell_type": "code",
   "execution_count": 25,
   "metadata": {},
   "outputs": [
    {
     "name": "stdout",
     "output_type": "stream",
     "text": [
      "The Confidence Interval = 0.3520024990340879, 0.44901790912917733\n",
      "The Margin of Error = 0.0970154100950894\n"
     ]
    }
   ],
   "source": [
    "afamp=157/392\n",
    "a=afamp+1.96*(math.sqrt((afamp*(1-afamp))/392))\n",
    "b=afamp-1.96*(math.sqrt((afamp*(1-afamp))/392))\n",
    "print(\"The Confidence Interval = \" + str(b)+\", \" +str(a))\n",
    "moe=a-b\n",
    "print(\"The Margin of Error = \"+ str(moe))"
   ]
  },
  {
   "cell_type": "markdown",
   "metadata": {},
   "source": [
    "# Conclusions"
   ]
  },
  {
   "cell_type": "markdown",
   "metadata": {
    "collapsed": true
   },
   "source": [
    "* This exercise suggests that one factor that can influence hiring is if a name sounds African American or white. This functions as one cognitive bias that employers exercise (consciously or unconsciously). One potential fix is to screen resumes with the names anonymized, removing this aspect of cognitive bias from the system until later on in the hiring process.\n",
    "* This exercise does not control for class, educational status, qualifications, previous salary, regional racism, etc., and thus cannot be used uncritically. Further analysis would actually control for these things, and ask, all other factors being equal, are African American sounding applicants less likely to be hired? Of course, systemic racism makes it more difficult to control for these factors, as these are prestige goods that are monopolized by white Americans. \n",
    "* Further, the actual amount of successful applicants was quite low in this data. There were only 392 successful applicants out of 4870 total applicants, so it is difficult to know how representative this data is. Maybe it is applicants for a highly seletive position? \n"
   ]
  },
  {
   "cell_type": "code",
   "execution_count": null,
   "metadata": {
    "collapsed": true
   },
   "outputs": [],
   "source": []
  }
 ],
 "metadata": {
  "kernelspec": {
   "display_name": "Python 3",
   "language": "python",
   "name": "python3"
  },
  "language_info": {
   "codemirror_mode": {
    "name": "ipython",
    "version": 3
   },
   "file_extension": ".py",
   "mimetype": "text/x-python",
   "name": "python",
   "nbconvert_exporter": "python",
   "pygments_lexer": "ipython3",
   "version": "3.6.1"
  }
 },
 "nbformat": 4,
 "nbformat_minor": 1
}
