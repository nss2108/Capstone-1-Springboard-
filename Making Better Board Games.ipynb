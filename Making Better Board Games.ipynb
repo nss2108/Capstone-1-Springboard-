{
 "cells": [
  {
   "cell_type": "code",
   "execution_count": 101,
   "metadata": {
    "collapsed": true
   },
   "outputs": [],
   "source": [
    "import seaborn as sns\n",
    "import matplotlib.pyplot as plt\n",
    "import pandas as pd\n",
    "import sklearn \n",
    "import numpy as np\n",
    "%matplotlib inline"
   ]
  },
  {
   "cell_type": "markdown",
   "metadata": {},
   "source": [
    "# Preprocessing the dataset"
   ]
  },
  {
   "cell_type": "code",
   "execution_count": 103,
   "metadata": {},
   "outputs": [],
   "source": [
    "#grouping together the length column into short, medium, and long\n",
    "length=[] #short, medium, and long equal <60, between 60 and 120, and >120, respectively\n",
    "games=pd.read_csv(\"gamesdataset.csv\", encoding=\"latin1\")\n",
    "games=games[games.notnull()]\n",
    "games.minplayers=games.minplayers.astype(str)\n",
    "games.maxplayers=games.maxplayers.astype(str)\n",
    "games[\"range\"]=games.minplayers+\"-\"+games.maxplayers\n",
    "games=games[games.playingtime.notnull()]\n",
    "for i in games.playingtime:\n",
    "    if i < 60 or i == 60:\n",
    "        length.append(\"shortgame\")\n",
    "    if i > 60 and i <=120:\n",
    "        length.append(\"mediumgame\")\n",
    "    if i >120:\n",
    "        length.append(\"longgame\")\n",
    "    if i == np.nan:\n",
    "        length.append(np.nan)\n",
    "games[\"length\"]=length  #turned as many things as possible into factors/categorical data"
   ]
  },
  {
   "cell_type": "code",
   "execution_count": 65,
   "metadata": {
    "collapsed": true
   },
   "outputs": [],
   "source": [
    "#create the gametype response variable\n",
    "games.year=games.year.astype(int)\n",
    "gametype=[]\n",
    "for i in games.year:\n",
    "    if i > 2000: \n",
    "        gametype.append(\"Euro\")\n",
    "    if i == 2000:\n",
    "        gametype.append(\"Euro\")\n",
    "    if i < 2000:\n",
    "        gametype.append(\"War\")\n",
    "games[\"gametype\"]= gametype"
   ]
  },
  {
   "cell_type": "code",
   "execution_count": 66,
   "metadata": {
    "collapsed": true
   },
   "outputs": [],
   "source": [
    "#turned amount of players into three levels\n",
    "plamount=[]\n",
    "games[\"avgplayers\"]=games.maxplayers.astype(\"float\")+games.minplayers.astype(\"float\")\n",
    "for i in games.avgplayers:\n",
    "    if i < 3 or i == 3:\n",
    "        plamount.append(\"fewplayers\") #1-2 person games\n",
    "    if i > 3 and i < 9:\n",
    "        plamount.append(\"averageplayers\") #assuming a max of 3-5 players\n",
    "    if i > 8:\n",
    "        plamount.append(\"manyplayers\")\n",
    "games[\"playeramount\"]=plamount"
   ]
  },
  {
   "cell_type": "code",
   "execution_count": 67,
   "metadata": {
    "collapsed": true
   },
   "outputs": [],
   "source": [
    "games.category=games.category.astype(str)\n",
    "games.publisher=games.publisher.astype(str)\n",
    "games.mechanic=games.mechanic.astype(str)\n",
    "cats=games.category.str.get_dummies(sep=\",\")\n",
    "mech=games.mechanic.str.get_dummies(sep=\",\")\n",
    "p=games.publisher.value_counts()\n",
    "big_list=p[(p>90) | (p ==90)].index\n",
    "middle_list=p[(p<90) & (p>24)].index\n",
    "small_list=p[(p==24) | (p<24)]\n",
    "big_list=big_list[2:]\n",
    "y=big_list[15]\n",
    "big_list=big_list[big_list !=y]\n",
    "#categorized publishers as  big, medium, and small"
   ]
  },
  {
   "cell_type": "code",
   "execution_count": 68,
   "metadata": {
    "collapsed": true
   },
   "outputs": [],
   "source": [
    "publisher_size=[]\n",
    "for i in games.publisher:\n",
    "    if i in big_list:\n",
    "        publisher_size.append(\"Large Publisher\")\n",
    "    if i in middle_list:\n",
    "        publisher_size.append(\"Medium Size Publisher\")\n",
    "    if i in small_list:\n",
    "        publisher_size.append(\"Small/Mixed Publisher\")\n",
    "    if i == \"(Self-Published)\" or i == \"(Web published)\" or i == \"(Self-Published),(Web published)\":\n",
    "        publisher_size.append(\"Self-Published\")  #included self/web published as a separate variable\n",
    "games[\"publisher_size\"]=publisher_size"
   ]
  },
  {
   "cell_type": "code",
   "execution_count": 69,
   "metadata": {
    "collapsed": true
   },
   "outputs": [],
   "source": [
    "pub=games.publisher_size.str.get_dummies()\n",
    "pa=games.playeramount.str.get_dummies()\n",
    "length=games.length.str.get_dummies()\n",
    "gt=games.gametype.str.get_dummies()\n",
    "gt.War=gt.War.astype(float)\n",
    "#turned all of these columns into dummy variables"
   ]
  },
  {
   "cell_type": "code",
   "execution_count": 70,
   "metadata": {
    "collapsed": true
   },
   "outputs": [],
   "source": [
    "df=games.copy() #copied out games made a separate dataframe for data analysis\n",
    "df=df.drop([\"id\",'description', 'image', 'maxplayers', 'maxplaytime', 'minage',\n",
    "       'minplayers', 'minplaytime', 'name', 'playingtime', 'thumbnail', 'year',\n",
    "       'boardgameartist', 'category', 'compilation', 'designer',\n",
    "       'implementation', 'integration', 'mechanic', 'publisher', 'stats.subtype.boardgame.bayesaverage',\n",
    "       'stats.subtype.boardgame.pos'], axis=1) #things that are irrelevant in this situation\n",
    "dfy=df[['owned', 'average', 'geekscore', 'wanting', 'weight', 'gametype']] #built a df with y data\n",
    "df=df.drop(['range', \"length\", \"avgplayers\", 'gametype', 'publisher_size', 'playeramount'], axis=1) #dropped duplicate data\n",
    "df_with_dummies=pd.concat([df, length,cats,pa, mech, pub], axis=1) #added all the dummy variables to the datase\n",
    "dfaverage=pd.concat([df, length,cats,pa, mech, pub, gt], axis=1)\n",
    "dfaverage=dfaverage.drop(\"average\", axis=1)\n",
    "#built a series of dataframes for my equations, so I could do some feature selection\n",
    "dfgs=pd.concat([df, length,cats,pa, mech, pub, gt], axis=1)\n",
    "dfgs=dfgs[dfgs.geekscore > 0]\n",
    "dfgs=dfgs.drop(\"geekscore\", axis=1)#made a separate version for geekscore, since so many games lack a geekscore\n",
    "#make everything into one database\n",
    "gsy=dfy[dfy.geekscore >0]"
   ]
  },
  {
   "cell_type": "markdown",
   "metadata": {},
   "source": [
    "# Geekscore model"
   ]
  },
  {
   "cell_type": "code",
   "execution_count": 72,
   "metadata": {
    "collapsed": true
   },
   "outputs": [],
   "source": [
    "from sklearn.model_selection import cross_val_score\n",
    "from sklearn.linear_model import LinearRegression\n",
    "from sklearn.linear_model import LogisticRegression\n",
    "from sklearn.model_selection import KFold\n",
    "kfold=KFold(n_splits=5, random_state=0)\n",
    "from sklearn.model_selection import train_test_split\n",
    "#imported some things from sklearn"
   ]
  },
  {
   "cell_type": "markdown",
   "metadata": {
    "collapsed": true
   },
   "source": [
    "I started with a simple Linear Regression model, and have left it in as a baseline"
   ]
  },
  {
   "cell_type": "code",
   "execution_count": 73,
   "metadata": {},
   "outputs": [
    {
     "name": "stdout",
     "output_type": "stream",
     "text": [
      "Training Set Score (R Squared): 0.8104316354332655\n",
      "Test Set Score (R Squared): 0.7830551667749369\n",
      "Mean Squared Error: 0.017914905325386928\n"
     ]
    }
   ],
   "source": [
    "from sklearn.model_selection import train_test_split\n",
    "from sklearn.metrics import mean_squared_error\n",
    "X_trainval, X_test, y_trainval, y_test=train_test_split(dfgs.values, gsy.geekscore, random_state=0)\n",
    "lr=LinearRegression().fit(X_trainval, y_trainval)\n",
    "print(\"Training Set Score (R Squared): {}\".format(lr.score(X_trainval, y_trainval)))\n",
    "print(\"Test Set Score (R Squared): {}\".format(lr.score(X_test, y_test)))\n",
    "y_pred=lr.predict(X_test)\n",
    "print(\"Mean Squared Error: {}\".format(mean_squared_error(y_test, y_pred)))\n",
    "x=mean_squared_error(y_test, y_pred)"
   ]
  },
  {
   "cell_type": "markdown",
   "metadata": {},
   "source": [
    "Geekscore Regression Model--a Random Forest Regressor"
   ]
  },
  {
   "cell_type": "code",
   "execution_count": 24,
   "metadata": {
    "collapsed": true
   },
   "outputs": [],
   "source": [
    "X_train, X_test, y_train, y_test=train_test_split(dfgs.values, gsy.geekscore, random_state=1, train_size=.75) #splitting the data"
   ]
  },
  {
   "cell_type": "code",
   "execution_count": 18,
   "metadata": {},
   "outputs": [
    {
     "name": "stdout",
     "output_type": "stream",
     "text": [
      "{'max_depth': 11, 'max_leaf_nodes': 98, 'min_samples_leaf': 2}\n"
     ]
    }
   ],
   "source": [
    "from sklearn.model_selection import GridSearchCV\n",
    "parameters={\"min_samples_leaf\":[1,2,3,4,5,6,7,8], \"max_depth\":[10,11,12,13,14], \"max_leaf_nodes\":[90, 91,92,93,94,95, 96,98,99,100]}\n",
    "rfr=RandomForestRegressor(n_estimators=5)\n",
    "clf=GridSearchCV(rfr, parameters, cv=kfold, scoring=\"neg_mean_squared_error\", n_jobs=4)\n",
    "clf.fit(X_train, y_train)\n",
    "print(clf.best_params_) #finding the best parameters"
   ]
  },
  {
   "cell_type": "code",
   "execution_count": 31,
   "metadata": {},
   "outputs": [
    {
     "name": "stdout",
     "output_type": "stream",
     "text": [
      "Root Mean Squared Error on Training Data: 0.023022710400284016\n",
      "Root Mean Squared Error on Test Data: 0.03631883462324047\n"
     ]
    }
   ],
   "source": [
    "from sklearn.ensemble import RandomForestRegressor\n",
    "from math import sqrt\n",
    "rf=RandomForestRegressor(n_estimators =100,max_depth=12, min_samples_leaf=2, max_leaf_nodes=95)\n",
    "rfr=rf.fit(X_train, y_train)\n",
    "y_predtrain=rfr.predict(X_train)\n",
    "trainmse=mean_squared_error(y_train, y_predtrain)\n",
    "rmsetrain=sqrt(trainmse)\n",
    "print(\"Root Mean Squared Error on Training Data: {}\".format((rmsetrain)))\n",
    "y_pred=rfr.predict(X_test)\n",
    "mse=mean_squared_error(y_test, y_pred)\n",
    "rmsetest=mse**0.5 #turned mse into rmse\n",
    "print(\"Root Mean Squared Error on Test Data: {}\".format(rmsetest))\n",
    "#built the model"
   ]
  },
  {
   "cell_type": "code",
   "execution_count": 22,
   "metadata": {},
   "outputs": [
    {
     "data": {
      "text/plain": [
       "<matplotlib.text.Text at 0x2a9ed3b5630>"
      ]
     },
     "execution_count": 22,
     "metadata": {},
     "output_type": "execute_result"
    },
    {
     "data": {
      "image/png": "[encoded data removed]",
      "text/plain": [
       "<matplotlib.figure.Figure at 0x2a9ee25cf98>"
      ]
     },
     "metadata": {},
     "output_type": "display_data"
    }
   ],
   "source": [
    "x=rfr.feature_importances_ > 0.0001\n",
    "features=dfgs.columns[x]\n",
    "coefficients=list(rfr.feature_importances_[x])\n",
    "gsy.geekscore.mean()\n",
    "gsy.geekscore.median()\n",
    "n_features = dfgs.columns[x].values.shape[0]\n",
    "plt.barh(range(n_features), coefficients, align=\"center\", color=\"red\")\n",
    "plt.yticks(np.arange(n_features), features)\n",
    "plt.xlabel(\"Feature importance\")\n",
    "plt.ylabel(\"Feature\")\n",
    "plt.title(\"Geekscore Random Forest Regressor Bar Graph of Feature Importance\")\n",
    "#graph of feature importance"
   ]
  },
  {
   "cell_type": "markdown",
   "metadata": {},
   "source": [
    "# Game Average Regression Model"
   ]
  },
  {
   "cell_type": "code",
   "execution_count": 74,
   "metadata": {
    "collapsed": true
   },
   "outputs": [],
   "source": [
    "dfaverage=dfaverage.drop([\"Euro\", \"War\"], axis=1) #drop Euor and War"
   ]
  },
  {
   "cell_type": "code",
   "execution_count": 75,
   "metadata": {},
   "outputs": [
    {
     "name": "stdout",
     "output_type": "stream",
     "text": [
      "Root Mean Squared Error on Training data: 0.8782041650839753\n",
      "Root Mean Squared Error on Test Data: 0.9798208472291914\n"
     ]
    }
   ],
   "source": [
    "#calculate on a simple Linear regression model\n",
    "from sklearn.metrics import mean_squared_error\n",
    "from math import sqrt\n",
    "X_trainval, X_test, y_trainval, y_test=train_test_split(dfaverage.values, dfy.average, random_state=0)\n",
    "lr=LinearRegression().fit(X_trainval, y_trainval)\n",
    "y_predtrain=lr.predict(X_trainval)\n",
    "print(\"Root Mean Squared Error on Training data: {}\".format(sqrt(mean_squared_error(y_trainval, y_predtrain))))\n",
    "y_pred=lr.predict(X_test)\n",
    "print(\"Root Mean Squared Error on Test Data: {}\".format(sqrt(mean_squared_error(y_test, y_pred))))"
   ]
  },
  {
   "cell_type": "code",
   "execution_count": 76,
   "metadata": {},
   "outputs": [
    {
     "name": "stdout",
     "output_type": "stream",
     "text": [
      "Best RMSE from CV: 0.8844098528946752\n",
      "Best alpha from CV: 0.0001\n"
     ]
    }
   ],
   "source": [
    "#use lasso technique, since it produces interesting data for category and mechanics\n",
    "from sklearn.linear_model import Lasso\n",
    "#lasso technique on average\n",
    "bestscore=5\n",
    "best_alpha=0\n",
    "X_train, X_val, y_train, y_val=train_test_split(X_trainval, y_trainval, random_state=0)\n",
    "alphas=[0.00001, 0.0001, 0.001, 0.01, 0.1]\n",
    "for alpha in alphas:\n",
    "    lasso=Lasso(alpha=alpha, max_iter=10000)\n",
    "    lasso.fit(X_train, y_train)\n",
    "    y_pred=lasso.predict(X_val)\n",
    "    score=mean_squared_error(y_val, y_pred)\n",
    "    if score < bestscore:\n",
    "        bestscore=score\n",
    "        best_alpha=alpha\n",
    "print(\"Best RMSE from CV: {}\".format(sqrt(bestscore)))\n",
    "print(\"Best alpha from CV: {}\".format(best_alpha)) #parameter tuning of alpha"
   ]
  },
  {
   "cell_type": "code",
   "execution_count": 77,
   "metadata": {},
   "outputs": [
    {
     "name": "stdout",
     "output_type": "stream",
     "text": [
      "Number of features used: 146\n",
      "Root Mean Squared Error on train data: 0.8782871750708969\n",
      "Root Mean Squared Error on test data: 0.8892818363281227\n"
     ]
    }
   ],
   "source": [
    "lasso=Lasso(alpha=best_alpha, max_iter=100000).fit(X_trainval, y_trainval)\n",
    "print(\"Number of features used: {}\".format(np.sum(lasso.coef_!=0)))\n",
    "y_predtrain=lasso.predict(X_trainval)\n",
    "print(\"Root Mean Squared Error on train data: {}\".format(sqrt(mean_squared_error(y_trainval, y_predtrain))))\n",
    "y_pred=lasso.predict(X_test)\n",
    "print(\"Root Mean Squared Error on test data: {}\".format(sqrt(mean_squared_error(y_test, y_pred))))\n",
    "#model rmse"
   ]
  },
  {
   "cell_type": "code",
   "execution_count": 78,
   "metadata": {},
   "outputs": [
    {
     "data": {
      "text/plain": [
       "<matplotlib.text.Text at 0x1880bb069b0>"
      ]
     },
     "execution_count": 78,
     "metadata": {},
     "output_type": "execute_result"
    },
    {
     "data": {
      "image/png": "[encoded data removed]",
      "text/plain": [
       "<matplotlib.figure.Figure at 0x1880728dc88>"
      ]
     },
     "metadata": {},
     "output_type": "display_data"
    }
   ],
   "source": [
    "#positive coefficients in the model that increase average\n",
    "x=lasso.coef_ > 0.2\n",
    "features=dfaverage.columns[x]\n",
    "coefficients=list(lasso.coef_[x])\n",
    "n_features = dfaverage.columns[x].values.shape[0]\n",
    "plt.barh(range(n_features), coefficients, align=\"center\", color=\"grey\")\n",
    "plt.yticks(np.arange(n_features), features)\n",
    "plt.xlabel(\"Coefficients\")\n",
    "plt.ylabel(\"Feature\")\n",
    "plt.title(\"Positive Coefficients from the Lasso Model\")\n"
   ]
  },
  {
   "cell_type": "code",
   "execution_count": 79,
   "metadata": {},
   "outputs": [
    {
     "data": {
      "text/plain": [
       "<matplotlib.text.Text at 0x1880841eac8>"
      ]
     },
     "execution_count": 79,
     "metadata": {},
     "output_type": "execute_result"
    },
    {
     "data": {
      "image/png": "[encoded data removed]",
      "text/plain": [
       "<matplotlib.figure.Figure at 0x1880bb04c18>"
      ]
     },
     "metadata": {},
     "output_type": "display_data"
    }
   ],
   "source": [
    "#negative coefficients in the model that decrease the average\n",
    "x=lasso.coef_ < -0.1\n",
    "features=dfaverage.columns[x]\n",
    "coefficients=list(lasso.coef_[x])\n",
    "n_features = dfaverage.columns[x].values.shape[0]\n",
    "plt.barh(range(n_features), coefficients, align=\"center\", color=\"black\")\n",
    "plt.yticks(np.arange(n_features), features)\n",
    "plt.xlabel(\"Coefficients\")\n",
    "plt.ylabel(\"Feature\")\n",
    "plt.title(\"Negative Coefficients from the Lasso Model\")"
   ]
  },
  {
   "cell_type": "code",
   "execution_count": null,
   "metadata": {
    "collapsed": true
   },
   "outputs": [],
   "source": [
    "#feature selection on the random forest model--some purposeful redundancy here as this takes a long time to rn\n",
    "X_train, X_test, y_train, y_test=train_test_split(dfaverage.values, dfy.average, random_state=1, train_size=.7)\n",
    "#random forest for averages\n",
    "from sklearn.ensemble import RandomForestRegressor\n",
    "from sklearn.model_selection import GridSearchCV\n",
    "parameters={\"min_samples_leaf\":[15,16,17], \"max_depth\":[14,15,16,17], \"max_leaf_nodes\":[102,103,104,105,110,120]}\n",
    "rfr=RandomForestRegressor(n_estimators=5)\n",
    "clf=GridSearchCV(rfr, parameters, cv=kfold, scoring=\"neg_mean_squared_error\", n_jobs=4)\n",
    "clf.fit(X_train, y_train)\n",
    "print(clf.best_params_)"
   ]
  },
  {
   "cell_type": "code",
   "execution_count": 81,
   "metadata": {},
   "outputs": [
    {
     "name": "stdout",
     "output_type": "stream",
     "text": [
      "Root Mean Squared Error on Training Data: 0.7132865177308378\n",
      "Root Mean Squared Error on Test Data: 0.7498824349076901\n"
     ]
    }
   ],
   "source": [
    "#the random forest model\n",
    "from sklearn.ensemble import RandomForestRegressor\n",
    "X_train, X_test, y_train, y_test=train_test_split(dfaverage.values, dfy.average, random_state=1, train_size=.7)\n",
    "rf=RandomForestRegressor(n_estimators =500,max_depth=16, min_samples_leaf=15, max_leaf_nodes=110, n_jobs=3)\n",
    "rfr=rf.fit(X_train, y_train)\n",
    "y_predtrain=rfr.predict(X_train)\n",
    "rmsetrain=sqrt(mean_squared_error(y_train, y_predtrain))\n",
    "print(\"Root Mean Squared Error on Training Data: {}\".format(rmsetrain))\n",
    "y_pred=rfr.predict(X_test)\n",
    "rmsetest=sqrt(mean_squared_error(y_test, y_pred))\n",
    "print(\"Root Mean Squared Error on Test Data: {}\".format(rmsetest))\n"
   ]
  },
  {
   "cell_type": "code",
   "execution_count": 82,
   "metadata": {},
   "outputs": [
    {
     "data": {
      "text/plain": [
       "<matplotlib.text.Text at 0x1880c896898>"
      ]
     },
     "execution_count": 82,
     "metadata": {},
     "output_type": "execute_result"
    },
    {
     "data": {
      "image/png": "[encoded data removed]",
      "text/plain": [
       "<matplotlib.figure.Figure at 0x1880ba9cd30>"
      ]
     },
     "metadata": {},
     "output_type": "display_data"
    }
   ],
   "source": [
    "#feature importance for the Random Forest Regression model\n",
    "x=rfr.feature_importances_ > 0.002\n",
    "features=dfaverage.columns[x]\n",
    "coefficients=list(rfr.feature_importances_[x])\n",
    "n_features = dfaverage.columns[x].values.shape[0]\n",
    "plt.barh(range(n_features), coefficients, align=\"center\", color=\"green\")\n",
    "plt.yticks(np.arange(n_features), features)\n",
    "plt.xlabel(\"Feature importance\")\n",
    "plt.ylabel(\"Feature\")"
   ]
  },
  {
   "cell_type": "markdown",
   "metadata": {
    "collapsed": true
   },
   "source": [
    "# Gametype Classification Model"
   ]
  },
  {
   "cell_type": "code",
   "execution_count": 84,
   "metadata": {},
   "outputs": [
    {
     "name": "stdout",
     "output_type": "stream",
     "text": [
      "Best Accuracy from CV:0.7299426934097422\n",
      "Best C from CV: 10\n"
     ]
    }
   ],
   "source": [
    "from sklearn.model_selection import train_test_split\n",
    "dfgt=df_with_dummies.drop([\"Euro\", \"War\"], axis=1) #make a dataframe for this classification set\n",
    "\n",
    "X_trainval, X_test, y_trainval, y_test=train_test_split(dfgt, dfy.gametype, random_state=0, train_size=.7) #train/test split\n",
    "bestscore=0\n",
    "from sklearn.linear_model import LogisticRegression\n",
    "X_train, X_val, y_train, y_val=train_test_split(X_trainval, y_trainval, random_state=0) #split includes validation data as well\n",
    "Cs=[0.0001, 0.001, 0.01, 0.1, 1, 10]\n",
    "for c in Cs:\n",
    "    lr=LogisticRegression(C=c)\n",
    "    lr.fit(X_train, y_train)\n",
    "    score=lr.score(X_val, y_val)\n",
    "    if score > bestscore:\n",
    "        bestscore=score\n",
    "        best_c=c\n",
    "print(\"Best Accuracy from CV:{}\".format(bestscore))\n",
    "print(\"Best C from CV: {}\".format(best_c))\n",
    "# tuning a simple linear regression model"
   ]
  },
  {
   "cell_type": "code",
   "execution_count": 85,
   "metadata": {},
   "outputs": [
    {
     "name": "stdout",
     "output_type": "stream",
     "text": [
      "Accuracy Score on training data: 0.7086741090084174\n",
      "Accuracy Score on test data: 0.7085945117704415\n"
     ]
    }
   ],
   "source": [
    "#performance of the simple logistic regression model\n",
    "lr=LogisticRegression(C=10, class_weight=\"balanced\")\n",
    "lr.fit(X_trainval, y_trainval)\n",
    "print(\"Accuracy Score on training data: {}\".format(lr.score(X_trainval, y_trainval)))\n",
    "print(\"Accuracy Score on test data: {}\".format(lr.score(X_test, y_test)))"
   ]
  },
  {
   "cell_type": "code",
   "execution_count": 16,
   "metadata": {},
   "outputs": [
    {
     "data": {
      "text/plain": [
       "{'max_depth': 22, 'max_leaf_nodes': 95, 'min_samples_leaf': 14}"
      ]
     },
     "execution_count": 16,
     "metadata": {},
     "output_type": "execute_result"
    }
   ],
   "source": [
    "#tuning the Random Forest Classifier model\n",
    "from sklearn.ensemble import RandomForestClassifier\n",
    "from sklearn.model_selection import GridSearchCV\n",
    "X_train, X_test, y_train, y_test=train_test_split(dfgt, dfy.gametype, random_state=0, train_size=.7)\n",
    "parameters={\"min_samples_leaf\":[10,11,12,13,14,15], \"max_depth\":[21,22,23,24,25,26,27,28], \"max_leaf_nodes\":[ 83,84, 85,86,87,88, 90, 91, 95, 97]}\n",
    "rfc=RandomForestClassifier(n_estimators=5, class_weight=\"balanced\")\n",
    "clf=GridSearchCV(rfc, parameters, cv=kfold, scoring=\"accuracy\", n_jobs=4)\n",
    "clf.fit(X_train, y_train)\n",
    "clf.best_params_"
   ]
  },
  {
   "cell_type": "code",
   "execution_count": 86,
   "metadata": {},
   "outputs": [
    {
     "name": "stdout",
     "output_type": "stream",
     "text": [
      "Accuracy on Training Set: 0.7323144886872426\n",
      "Accuracy on Test Set: 0.7122161860983424\n"
     ]
    }
   ],
   "source": [
    "#accuracy of the Random Forest Classifier model\n",
    "from sklearn.ensemble import RandomForestClassifier\n",
    "dfy.gametype=dfy.gametype.str.get_dummies()\n",
    "X_train, X_test, y_train, y_test=train_test_split(dfgt, dfy.gametype, random_state=0, train_size=.7)\n",
    "rf=RandomForestClassifier(n_estimators =100,max_depth=22, min_samples_leaf=14, max_leaf_nodes=95, class_weight=\"balanced\")\n",
    "rf=rf.fit(X_train, y_train)\n",
    "print(\"Accuracy on Training Set: {}\".format(rf.score(X_train, y_train)))\n",
    "print(\"Accuracy on Test Set: {}\".format(rf.score(X_test, y_test)))"
   ]
  },
  {
   "cell_type": "code",
   "execution_count": 87,
   "metadata": {},
   "outputs": [
    {
     "data": {
      "text/plain": [
       "<matplotlib.text.Text at 0x1880853bbe0>"
      ]
     },
     "execution_count": 87,
     "metadata": {},
     "output_type": "execute_result"
    },
    {
     "data": {
      "image/png": "[encoded data removed]",
      "text/plain": [
       "<matplotlib.figure.Figure at 0x1880ba9c8d0>"
      ]
     },
     "metadata": {},
     "output_type": "display_data"
    }
   ],
   "source": [
    "x=rf.feature_importances_ > 0.01\n",
    "features=df_with_dummies.columns[x]\n",
    "coefficients=list(rf.feature_importances_[x])\n",
    "n_features = df_with_dummies.columns[x].values.shape[0]\n",
    "plt.barh(range(n_features), coefficients, align=\"center\", color=\"purple\")\n",
    "plt.yticks(np.arange(n_features), features)\n",
    "plt.xlabel(\"Feature importance\")\n",
    "plt.ylabel(\"Feature\")\n",
    "plt.title(\"Significance of Features in the Random Forest Classifier\")"
   ]
  },
  {
   "cell_type": "code",
   "execution_count": 97,
   "metadata": {
    "scrolled": false
   },
   "outputs": [
    {
     "data": {
      "image/png": "[encoded data removed]",
      "text/plain": [
       "<matplotlib.figure.Figure at 0x18804be4ef0>"
      ]
     },
     "metadata": {},
     "output_type": "display_data"
    }
   ],
   "source": [
    "#code to build a ROC curve\n",
    "from sklearn.metrics import roc_curve\n",
    "from sklearn.metrics import auc\n",
    "y_pred=rf.predict(X_test)\n",
    "false_positive_rate, true_positive_rate, thresholds = roc_curve(y_test, y_pred)\n",
    "roc_auc = auc(false_positive_rate, true_positive_rate)\n",
    "plt.title('ROC Graph for Game Type Classifier')\n",
    "plt.plot(false_positive_rate, true_positive_rate, 'b',\n",
    "label='AUC = %0.2f'% roc_auc)\n",
    "plt.legend(loc='lower right')\n",
    "plt.plot([0,1],[0,1],'r--')\n",
    "plt.xlim([-0.1,1.2])\n",
    "plt.ylim([-0.1,1.2])\n",
    "plt.ylabel('True Positive Rate')\n",
    "plt.xlabel('False Positive Rate')\n",
    "plt.show()"
   ]
  },
  {
   "cell_type": "markdown",
   "metadata": {},
   "source": [
    "# Naive Bayes Classifier of Gametype"
   ]
  },
  {
   "cell_type": "code",
   "execution_count": 89,
   "metadata": {},
   "outputs": [
    {
     "name": "stderr",
     "output_type": "stream",
     "text": [
      "C:\\Users\\test\\Anaconda3\\lib\\site-packages\\ipykernel_launcher.py:2: SettingWithCopyWarning: \n",
      "A value is trying to be set on a copy of a slice from a DataFrame.\n",
      "Try using .loc[row_indexer,col_indexer] = value instead\n",
      "\n",
      "See the caveats in the documentation: http://pandas.pydata.org/pandas-docs/stable/indexing.html#indexing-view-versus-copy\n",
      "  \n"
     ]
    }
   ],
   "source": [
    "text=games[[\"description\", \"publisher\", \"mechanic\", \"category\", \"gametype\"]]\n",
    "text[\"docs\"]=text[\"publisher\"]+\" \"+text[\"mechanic\"]+\" \"+text[\"category\"]\n",
    "#makes a dataframe of relevant text data"
   ]
  },
  {
   "cell_type": "code",
   "execution_count": 90,
   "metadata": {
    "collapsed": true
   },
   "outputs": [],
   "source": [
    "from sklearn.feature_extraction.text import CountVectorizer\n",
    "from sklearn.naive_bayes import MultinomialNB\n",
    "def make_xy(text, y_value, vectorizer=None):\n",
    "    if vectorizer is None:\n",
    "        vectorizer = CountVectorizer()\n",
    "    X = vectorizer.fit_transform(text)\n",
    "    X=X.tocsc()\n",
    "    y=(y_value==\"Euro\").values.astype(np.int)\n",
    "    return X,y\n",
    "X,y=make_xy(text.docs, text.gametype)\n",
    "#vectorizes the text data"
   ]
  },
  {
   "cell_type": "code",
   "execution_count": 91,
   "metadata": {
    "collapsed": true
   },
   "outputs": [],
   "source": [
    "from sklearn.model_selection import KFold\n",
    "def cv_score(clf, X, y):\n",
    "    result = 0.\n",
    "    nfold = 5\n",
    "    for train, test in KFold(nfold).split(X): # split data into train/test groups, 5 times\n",
    "        clf.fit(X[train], y[train]) # fit the classifier, passed is as clf.\n",
    "        result += clf.score(X[test], y[test]) # evaluate score function on held-out data\n",
    "    return result / nfold # average"
   ]
  },
  {
   "cell_type": "code",
   "execution_count": 92,
   "metadata": {
    "collapsed": true
   },
   "outputs": [],
   "source": [
    "from sklearn.model_selection import train_test_split\n",
    "_, itest = train_test_split(range(text.shape[0]), train_size=0.7)\n",
    "mask = np.zeros(text.shape[0], dtype=np.bool)\n",
    "mask[itest] = True"
   ]
  },
  {
   "cell_type": "code",
   "execution_count": 93,
   "metadata": {
    "collapsed": true
   },
   "outputs": [],
   "source": [
    "#tuning the model based on alpha and min_df\n",
    "alphas = [.0001, .001, .01, 1, 10] #alpha\n",
    "best_min_df = [1,2,3,4,5] # mindf\n",
    "scores_list=[]\n",
    "#Find the best value for alpha and min_df, and the best classifier\n",
    "results_list=[]\n",
    "best_alpha = None\n",
    "maxscore=-np.inf\n",
    "for alpha in alphas:\n",
    "    for df in best_min_df:\n",
    "        vectorizer = CountVectorizer(min_df=df)\n",
    "        Xthis, ythis = make_xy(text[\"docs\"], text.gametype, vectorizer)\n",
    "        Xtrainthis = Xthis[mask]\n",
    "        ytrainthis = ythis[mask]\n",
    "        clf=MultinomialNB(alpha=alpha)\n",
    "        score=cv_score(clf,Xtrainthis, ytrainthis)\n",
    "        scores_list.append((score,alpha, df))\n",
    "for i in scores_list:\n",
    "    if i[0] > maxscore:\n",
    "        maxscore=i[0]\n",
    "        results_list.append(i)\n",
    "x=len(results_list)-1\n",
    "best_alpha=results_list[x][1]\n",
    "best_min_df=results_list[x][2]"
   ]
  },
  {
   "cell_type": "code",
   "execution_count": 95,
   "metadata": {},
   "outputs": [
    {
     "name": "stdout",
     "output_type": "stream",
     "text": [
      "Accuracy on training data: 0.875749\n",
      "Accuracy on test data:     0.807594\n"
     ]
    }
   ],
   "source": [
    "vectorizer = CountVectorizer(min_df=1, stop_words=\"english\")\n",
    "X, y = make_xy(text[\"docs\"], text.gametype, vectorizer)\n",
    "xtrain=X[mask]\n",
    "ytrain=y[mask]\n",
    "xtest=X[~mask]\n",
    "ytest=y[~mask]\n",
    "\n",
    "clf = MultinomialNB(alpha=.001).fit(xtrain, ytrain)\n",
    "training_accuracy = clf.score(xtrain, ytrain)\n",
    "test_accuracy = clf.score(xtest, ytest)\n",
    "\n",
    "print(\"Accuracy on training data: {:2f}\".format(training_accuracy))\n",
    "print(\"Accuracy on test data:     {:2f}\".format(test_accuracy))"
   ]
  },
  {
   "cell_type": "code",
   "execution_count": 98,
   "metadata": {},
   "outputs": [
    {
     "data": {
      "image/png": "[encoded data removed]",
      "text/plain": [
       "<matplotlib.figure.Figure at 0x18805006c88>"
      ]
     },
     "metadata": {},
     "output_type": "display_data"
    }
   ],
   "source": [
    "#making a ROC curve for this classifier\n",
    "y_pred=clf.predict(xtest)\n",
    "false_positive_rate, true_positive_rate, thresholds = roc_curve(ytest, y_pred)\n",
    "roc_auc = auc(false_positive_rate, true_positive_rate)\n",
    "plt.title('ROC Graph for Naive Bayes Classifier')\n",
    "plt.plot(false_positive_rate, true_positive_rate, 'b',\n",
    "label='AUC = %0.2f'% roc_auc)\n",
    "plt.legend(loc='lower right')\n",
    "plt.plot([0,1],[0,1],'r--')\n",
    "plt.xlim([-0.1,1.2])\n",
    "plt.ylim([-0.1,1.2])\n",
    "plt.ylabel('True Positive Rate')\n",
    "plt.xlabel('False Positive Rate')\n",
    "plt.show()"
   ]
  },
  {
   "cell_type": "code",
   "execution_count": 99,
   "metadata": {},
   "outputs": [
    {
     "name": "stdout",
     "output_type": "stream",
     "text": [
      "[[4565 1574]\n",
      " [1649 8963]]\n"
     ]
    }
   ],
   "source": [
    "#confusion matrix for this dataset\n",
    "from sklearn.metrics import confusion_matrix\n",
    "print(confusion_matrix(ytest, clf.predict(xtest)))"
   ]
  },
  {
   "cell_type": "code",
   "execution_count": 100,
   "metadata": {},
   "outputs": [
    {
     "name": "stdout",
     "output_type": "stream",
     "text": [
      "Euro words\t     P(Euro | word)\n",
      "             friends 1.00\n",
      "                huch 1.00\n",
      "                 lps 1.00\n",
      "              polska 1.00\n",
      "              goblin 1.00\n",
      "               uniti 1.00\n",
      "               rebel 1.00\n",
      "                  pl 1.00\n",
      "                odds 1.00\n",
      "           filosofia 1.00\n",
      "War words\t     P(War | word)\n",
      "                sons 0.00\n",
      "                otto 0.00\n",
      "               maier 0.00\n",
      "         altenburger 0.00\n",
      "                 ass 0.00\n",
      "                john 0.00\n",
      "                 tsr 0.00\n",
      "                  3w 0.00\n",
      "                 spi 0.00\n",
      "        publications 0.00\n"
     ]
    }
   ],
   "source": [
    "#spits out the top words associated with Euro/War games respectively--mostly publishers\n",
    "words = np.array(vectorizer.get_feature_names())\n",
    "\n",
    "x = np.eye(xtest.shape[1])\n",
    "probs = clf.predict_log_proba(x)[:, 0]\n",
    "ind = np.argsort(probs)\n",
    "\n",
    "good_words = words[ind[:10]]\n",
    "bad_words = words[ind[-10:]]\n",
    "\n",
    "good_prob = probs[ind[:10]]\n",
    "bad_prob = probs[ind[-10:]]\n",
    "\n",
    "print(\"Euro words\\t     P(Euro | word)\")\n",
    "for w, p in zip(good_words, good_prob):\n",
    "    print(\"{:>20}\".format(w), \"{:.2f}\".format(1 - np.exp(p)))\n",
    "    \n",
    "print(\"War words\\t     P(War | word)\")\n",
    "for w, p in zip(bad_words, bad_prob):\n",
    "    print(\"{:>20}\".format(w), \"{:.2f}\".format(1 - np.exp(p)))"
   ]
  }
 ],
 "metadata": {
  "kernelspec": {
   "display_name": "Python 3",
   "language": "python",
   "name": "python3"
  },
  "language_info": {
   "codemirror_mode": {
    "name": "ipython",
    "version": 3
   },
   "file_extension": ".py",
   "mimetype": "text/x-python",
   "name": "python",
   "nbconvert_exporter": "python",
   "pygments_lexer": "ipython3",
   "version": "3.6.1"
  }
 },
 "nbformat": 4,
 "nbformat_minor": 2
}
