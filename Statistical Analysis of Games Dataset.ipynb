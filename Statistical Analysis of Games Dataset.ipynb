{
 "cells": [
  {
   "cell_type": "code",
   "execution_count": 77,
   "metadata": {
    "collapsed": true
   },
   "outputs": [],
   "source": [
    "import pandas as pd\n",
    "%matplotlib inline\n",
    "import seaborn as sns\n",
    "import numpy as np\n",
    "import matplotlib.pyplot as plt\n",
    "import scipy.stats as stats\n",
    "import statsmodels.api as sm"
   ]
  },
  {
   "cell_type": "code",
   "execution_count": 78,
   "metadata": {
    "collapsed": true
   },
   "outputs": [],
   "source": [
    "games=pd.read_csv(\"gamesdataset.csv\", encoding=\"latin1\")\n",
    "games.category=games.category.astype(str)"
   ]
  },
  {
   "cell_type": "markdown",
   "metadata": {},
   "source": [
    "# How does a game's category influence its rating?"
   ]
  },
  {
   "cell_type": "code",
   "execution_count": 79,
   "metadata": {},
   "outputs": [
    {
     "data": {
      "text/html": [
       "<div>\n",
       "<style>\n",
       "    .dataframe thead tr:only-child th {\n",
       "        text-align: right;\n",
       "    }\n",
       "\n",
       "    .dataframe thead th {\n",
       "        text-align: left;\n",
       "    }\n",
       "\n",
       "    .dataframe tbody tr th {\n",
       "        vertical-align: top;\n",
       "    }\n",
       "</style>\n",
       "<table border=\"1\" class=\"dataframe\">\n",
       "  <thead>\n",
       "    <tr style=\"text-align: right;\">\n",
       "      <th>average</th>\n",
       "      <th>1.0</th>\n",
       "      <th>2.0</th>\n",
       "      <th>3.0</th>\n",
       "      <th>4.0</th>\n",
       "      <th>5.0</th>\n",
       "      <th>6.0</th>\n",
       "      <th>7.0</th>\n",
       "      <th>8.0</th>\n",
       "      <th>9.0</th>\n",
       "      <th>10.0</th>\n",
       "      <th>All</th>\n",
       "    </tr>\n",
       "    <tr>\n",
       "      <th>0</th>\n",
       "      <th></th>\n",
       "      <th></th>\n",
       "      <th></th>\n",
       "      <th></th>\n",
       "      <th></th>\n",
       "      <th></th>\n",
       "      <th></th>\n",
       "      <th></th>\n",
       "      <th></th>\n",
       "      <th></th>\n",
       "      <th></th>\n",
       "    </tr>\n",
       "  </thead>\n",
       "  <tbody>\n",
       "    <tr>\n",
       "      <th>Abstract Strategy</th>\n",
       "      <td>0</td>\n",
       "      <td>1</td>\n",
       "      <td>15</td>\n",
       "      <td>114</td>\n",
       "      <td>429</td>\n",
       "      <td>1014</td>\n",
       "      <td>642</td>\n",
       "      <td>141</td>\n",
       "      <td>5</td>\n",
       "      <td>1</td>\n",
       "      <td>2362</td>\n",
       "    </tr>\n",
       "    <tr>\n",
       "      <th>Action / Dexterity</th>\n",
       "      <td>1</td>\n",
       "      <td>4</td>\n",
       "      <td>12</td>\n",
       "      <td>141</td>\n",
       "      <td>394</td>\n",
       "      <td>574</td>\n",
       "      <td>238</td>\n",
       "      <td>37</td>\n",
       "      <td>1</td>\n",
       "      <td>0</td>\n",
       "      <td>1402</td>\n",
       "    </tr>\n",
       "    <tr>\n",
       "      <th>Adventure</th>\n",
       "      <td>0</td>\n",
       "      <td>2</td>\n",
       "      <td>12</td>\n",
       "      <td>56</td>\n",
       "      <td>155</td>\n",
       "      <td>300</td>\n",
       "      <td>193</td>\n",
       "      <td>70</td>\n",
       "      <td>14</td>\n",
       "      <td>0</td>\n",
       "      <td>802</td>\n",
       "    </tr>\n",
       "    <tr>\n",
       "      <th>Age of Reason</th>\n",
       "      <td>0</td>\n",
       "      <td>0</td>\n",
       "      <td>0</td>\n",
       "      <td>1</td>\n",
       "      <td>7</td>\n",
       "      <td>49</td>\n",
       "      <td>67</td>\n",
       "      <td>23</td>\n",
       "      <td>2</td>\n",
       "      <td>0</td>\n",
       "      <td>149</td>\n",
       "    </tr>\n",
       "    <tr>\n",
       "      <th>American Civil War</th>\n",
       "      <td>0</td>\n",
       "      <td>0</td>\n",
       "      <td>3</td>\n",
       "      <td>5</td>\n",
       "      <td>20</td>\n",
       "      <td>96</td>\n",
       "      <td>125</td>\n",
       "      <td>48</td>\n",
       "      <td>1</td>\n",
       "      <td>0</td>\n",
       "      <td>298</td>\n",
       "    </tr>\n",
       "    <tr>\n",
       "      <th>American Indian Wars</th>\n",
       "      <td>0</td>\n",
       "      <td>0</td>\n",
       "      <td>1</td>\n",
       "      <td>0</td>\n",
       "      <td>2</td>\n",
       "      <td>8</td>\n",
       "      <td>11</td>\n",
       "      <td>9</td>\n",
       "      <td>0</td>\n",
       "      <td>0</td>\n",
       "      <td>31</td>\n",
       "    </tr>\n",
       "    <tr>\n",
       "      <th>American Revolutionary War</th>\n",
       "      <td>0</td>\n",
       "      <td>0</td>\n",
       "      <td>0</td>\n",
       "      <td>0</td>\n",
       "      <td>2</td>\n",
       "      <td>6</td>\n",
       "      <td>9</td>\n",
       "      <td>5</td>\n",
       "      <td>0</td>\n",
       "      <td>0</td>\n",
       "      <td>22</td>\n",
       "    </tr>\n",
       "    <tr>\n",
       "      <th>American West</th>\n",
       "      <td>0</td>\n",
       "      <td>0</td>\n",
       "      <td>1</td>\n",
       "      <td>13</td>\n",
       "      <td>36</td>\n",
       "      <td>65</td>\n",
       "      <td>38</td>\n",
       "      <td>6</td>\n",
       "      <td>0</td>\n",
       "      <td>0</td>\n",
       "      <td>159</td>\n",
       "    </tr>\n",
       "    <tr>\n",
       "      <th>Ancient</th>\n",
       "      <td>0</td>\n",
       "      <td>0</td>\n",
       "      <td>1</td>\n",
       "      <td>19</td>\n",
       "      <td>45</td>\n",
       "      <td>211</td>\n",
       "      <td>221</td>\n",
       "      <td>54</td>\n",
       "      <td>2</td>\n",
       "      <td>0</td>\n",
       "      <td>553</td>\n",
       "    </tr>\n",
       "    <tr>\n",
       "      <th>Animals</th>\n",
       "      <td>1</td>\n",
       "      <td>1</td>\n",
       "      <td>18</td>\n",
       "      <td>85</td>\n",
       "      <td>267</td>\n",
       "      <td>479</td>\n",
       "      <td>173</td>\n",
       "      <td>31</td>\n",
       "      <td>0</td>\n",
       "      <td>0</td>\n",
       "      <td>1055</td>\n",
       "    </tr>\n",
       "    <tr>\n",
       "      <th>Arabian</th>\n",
       "      <td>0</td>\n",
       "      <td>0</td>\n",
       "      <td>0</td>\n",
       "      <td>2</td>\n",
       "      <td>12</td>\n",
       "      <td>35</td>\n",
       "      <td>18</td>\n",
       "      <td>1</td>\n",
       "      <td>0</td>\n",
       "      <td>0</td>\n",
       "      <td>68</td>\n",
       "    </tr>\n",
       "    <tr>\n",
       "      <th>Aviation / Flight</th>\n",
       "      <td>0</td>\n",
       "      <td>0</td>\n",
       "      <td>1</td>\n",
       "      <td>6</td>\n",
       "      <td>31</td>\n",
       "      <td>66</td>\n",
       "      <td>65</td>\n",
       "      <td>30</td>\n",
       "      <td>2</td>\n",
       "      <td>0</td>\n",
       "      <td>201</td>\n",
       "    </tr>\n",
       "    <tr>\n",
       "      <th>Bluffing</th>\n",
       "      <td>0</td>\n",
       "      <td>0</td>\n",
       "      <td>14</td>\n",
       "      <td>45</td>\n",
       "      <td>163</td>\n",
       "      <td>376</td>\n",
       "      <td>271</td>\n",
       "      <td>52</td>\n",
       "      <td>2</td>\n",
       "      <td>0</td>\n",
       "      <td>923</td>\n",
       "    </tr>\n",
       "    <tr>\n",
       "      <th>Book</th>\n",
       "      <td>0</td>\n",
       "      <td>0</td>\n",
       "      <td>0</td>\n",
       "      <td>2</td>\n",
       "      <td>1</td>\n",
       "      <td>18</td>\n",
       "      <td>33</td>\n",
       "      <td>26</td>\n",
       "      <td>1</td>\n",
       "      <td>0</td>\n",
       "      <td>81</td>\n",
       "    </tr>\n",
       "    <tr>\n",
       "      <th>Card Game</th>\n",
       "      <td>0</td>\n",
       "      <td>13</td>\n",
       "      <td>62</td>\n",
       "      <td>302</td>\n",
       "      <td>918</td>\n",
       "      <td>1840</td>\n",
       "      <td>972</td>\n",
       "      <td>251</td>\n",
       "      <td>31</td>\n",
       "      <td>2</td>\n",
       "      <td>4391</td>\n",
       "    </tr>\n",
       "    <tr>\n",
       "      <th>Children's Game</th>\n",
       "      <td>0</td>\n",
       "      <td>7</td>\n",
       "      <td>44</td>\n",
       "      <td>246</td>\n",
       "      <td>417</td>\n",
       "      <td>351</td>\n",
       "      <td>100</td>\n",
       "      <td>6</td>\n",
       "      <td>0</td>\n",
       "      <td>0</td>\n",
       "      <td>1171</td>\n",
       "    </tr>\n",
       "    <tr>\n",
       "      <th>City Building</th>\n",
       "      <td>0</td>\n",
       "      <td>0</td>\n",
       "      <td>1</td>\n",
       "      <td>3</td>\n",
       "      <td>16</td>\n",
       "      <td>63</td>\n",
       "      <td>75</td>\n",
       "      <td>17</td>\n",
       "      <td>1</td>\n",
       "      <td>1</td>\n",
       "      <td>177</td>\n",
       "    </tr>\n",
       "    <tr>\n",
       "      <th>Civil War</th>\n",
       "      <td>0</td>\n",
       "      <td>0</td>\n",
       "      <td>0</td>\n",
       "      <td>0</td>\n",
       "      <td>10</td>\n",
       "      <td>26</td>\n",
       "      <td>33</td>\n",
       "      <td>8</td>\n",
       "      <td>0</td>\n",
       "      <td>0</td>\n",
       "      <td>77</td>\n",
       "    </tr>\n",
       "    <tr>\n",
       "      <th>Civilization</th>\n",
       "      <td>0</td>\n",
       "      <td>0</td>\n",
       "      <td>0</td>\n",
       "      <td>3</td>\n",
       "      <td>7</td>\n",
       "      <td>16</td>\n",
       "      <td>53</td>\n",
       "      <td>17</td>\n",
       "      <td>6</td>\n",
       "      <td>0</td>\n",
       "      <td>102</td>\n",
       "    </tr>\n",
       "    <tr>\n",
       "      <th>Collectible Components</th>\n",
       "      <td>0</td>\n",
       "      <td>0</td>\n",
       "      <td>2</td>\n",
       "      <td>1</td>\n",
       "      <td>17</td>\n",
       "      <td>31</td>\n",
       "      <td>10</td>\n",
       "      <td>6</td>\n",
       "      <td>0</td>\n",
       "      <td>0</td>\n",
       "      <td>67</td>\n",
       "    </tr>\n",
       "    <tr>\n",
       "      <th>Comic Book / Strip</th>\n",
       "      <td>0</td>\n",
       "      <td>1</td>\n",
       "      <td>4</td>\n",
       "      <td>18</td>\n",
       "      <td>29</td>\n",
       "      <td>34</td>\n",
       "      <td>11</td>\n",
       "      <td>1</td>\n",
       "      <td>2</td>\n",
       "      <td>0</td>\n",
       "      <td>100</td>\n",
       "    </tr>\n",
       "    <tr>\n",
       "      <th>Deduction</th>\n",
       "      <td>0</td>\n",
       "      <td>1</td>\n",
       "      <td>1</td>\n",
       "      <td>27</td>\n",
       "      <td>85</td>\n",
       "      <td>169</td>\n",
       "      <td>69</td>\n",
       "      <td>23</td>\n",
       "      <td>0</td>\n",
       "      <td>0</td>\n",
       "      <td>375</td>\n",
       "    </tr>\n",
       "    <tr>\n",
       "      <th>Dice</th>\n",
       "      <td>1</td>\n",
       "      <td>3</td>\n",
       "      <td>24</td>\n",
       "      <td>96</td>\n",
       "      <td>232</td>\n",
       "      <td>345</td>\n",
       "      <td>175</td>\n",
       "      <td>46</td>\n",
       "      <td>7</td>\n",
       "      <td>0</td>\n",
       "      <td>929</td>\n",
       "    </tr>\n",
       "    <tr>\n",
       "      <th>Economic</th>\n",
       "      <td>1</td>\n",
       "      <td>3</td>\n",
       "      <td>23</td>\n",
       "      <td>119</td>\n",
       "      <td>253</td>\n",
       "      <td>282</td>\n",
       "      <td>245</td>\n",
       "      <td>78</td>\n",
       "      <td>4</td>\n",
       "      <td>0</td>\n",
       "      <td>1008</td>\n",
       "    </tr>\n",
       "    <tr>\n",
       "      <th>Educational</th>\n",
       "      <td>0</td>\n",
       "      <td>2</td>\n",
       "      <td>10</td>\n",
       "      <td>33</td>\n",
       "      <td>78</td>\n",
       "      <td>75</td>\n",
       "      <td>38</td>\n",
       "      <td>6</td>\n",
       "      <td>3</td>\n",
       "      <td>0</td>\n",
       "      <td>245</td>\n",
       "    </tr>\n",
       "    <tr>\n",
       "      <th>Electronic</th>\n",
       "      <td>0</td>\n",
       "      <td>1</td>\n",
       "      <td>2</td>\n",
       "      <td>10</td>\n",
       "      <td>32</td>\n",
       "      <td>36</td>\n",
       "      <td>8</td>\n",
       "      <td>2</td>\n",
       "      <td>0</td>\n",
       "      <td>0</td>\n",
       "      <td>91</td>\n",
       "    </tr>\n",
       "    <tr>\n",
       "      <th>Environmental</th>\n",
       "      <td>0</td>\n",
       "      <td>0</td>\n",
       "      <td>1</td>\n",
       "      <td>3</td>\n",
       "      <td>4</td>\n",
       "      <td>5</td>\n",
       "      <td>5</td>\n",
       "      <td>2</td>\n",
       "      <td>1</td>\n",
       "      <td>0</td>\n",
       "      <td>21</td>\n",
       "    </tr>\n",
       "    <tr>\n",
       "      <th>Expansion for Base-game</th>\n",
       "      <td>0</td>\n",
       "      <td>0</td>\n",
       "      <td>0</td>\n",
       "      <td>0</td>\n",
       "      <td>2</td>\n",
       "      <td>3</td>\n",
       "      <td>7</td>\n",
       "      <td>6</td>\n",
       "      <td>0</td>\n",
       "      <td>0</td>\n",
       "      <td>18</td>\n",
       "    </tr>\n",
       "    <tr>\n",
       "      <th>Exploration</th>\n",
       "      <td>0</td>\n",
       "      <td>1</td>\n",
       "      <td>4</td>\n",
       "      <td>13</td>\n",
       "      <td>25</td>\n",
       "      <td>58</td>\n",
       "      <td>43</td>\n",
       "      <td>11</td>\n",
       "      <td>3</td>\n",
       "      <td>0</td>\n",
       "      <td>158</td>\n",
       "    </tr>\n",
       "    <tr>\n",
       "      <th>Fantasy</th>\n",
       "      <td>0</td>\n",
       "      <td>2</td>\n",
       "      <td>8</td>\n",
       "      <td>24</td>\n",
       "      <td>74</td>\n",
       "      <td>172</td>\n",
       "      <td>122</td>\n",
       "      <td>47</td>\n",
       "      <td>9</td>\n",
       "      <td>1</td>\n",
       "      <td>459</td>\n",
       "    </tr>\n",
       "    <tr>\n",
       "      <th>...</th>\n",
       "      <td>...</td>\n",
       "      <td>...</td>\n",
       "      <td>...</td>\n",
       "      <td>...</td>\n",
       "      <td>...</td>\n",
       "      <td>...</td>\n",
       "      <td>...</td>\n",
       "      <td>...</td>\n",
       "      <td>...</td>\n",
       "      <td>...</td>\n",
       "      <td>...</td>\n",
       "    </tr>\n",
       "    <tr>\n",
       "      <th>Number</th>\n",
       "      <td>0</td>\n",
       "      <td>1</td>\n",
       "      <td>2</td>\n",
       "      <td>3</td>\n",
       "      <td>7</td>\n",
       "      <td>4</td>\n",
       "      <td>1</td>\n",
       "      <td>1</td>\n",
       "      <td>0</td>\n",
       "      <td>0</td>\n",
       "      <td>19</td>\n",
       "    </tr>\n",
       "    <tr>\n",
       "      <th>Party Game</th>\n",
       "      <td>0</td>\n",
       "      <td>1</td>\n",
       "      <td>12</td>\n",
       "      <td>62</td>\n",
       "      <td>163</td>\n",
       "      <td>217</td>\n",
       "      <td>71</td>\n",
       "      <td>9</td>\n",
       "      <td>0</td>\n",
       "      <td>0</td>\n",
       "      <td>535</td>\n",
       "    </tr>\n",
       "    <tr>\n",
       "      <th>Pike and Shot</th>\n",
       "      <td>0</td>\n",
       "      <td>0</td>\n",
       "      <td>0</td>\n",
       "      <td>0</td>\n",
       "      <td>4</td>\n",
       "      <td>6</td>\n",
       "      <td>12</td>\n",
       "      <td>7</td>\n",
       "      <td>1</td>\n",
       "      <td>0</td>\n",
       "      <td>30</td>\n",
       "    </tr>\n",
       "    <tr>\n",
       "      <th>Pirates</th>\n",
       "      <td>0</td>\n",
       "      <td>0</td>\n",
       "      <td>0</td>\n",
       "      <td>1</td>\n",
       "      <td>7</td>\n",
       "      <td>13</td>\n",
       "      <td>7</td>\n",
       "      <td>1</td>\n",
       "      <td>1</td>\n",
       "      <td>0</td>\n",
       "      <td>30</td>\n",
       "    </tr>\n",
       "    <tr>\n",
       "      <th>Political</th>\n",
       "      <td>0</td>\n",
       "      <td>1</td>\n",
       "      <td>3</td>\n",
       "      <td>10</td>\n",
       "      <td>12</td>\n",
       "      <td>27</td>\n",
       "      <td>29</td>\n",
       "      <td>12</td>\n",
       "      <td>0</td>\n",
       "      <td>0</td>\n",
       "      <td>94</td>\n",
       "    </tr>\n",
       "    <tr>\n",
       "      <th>Post-Napoleonic</th>\n",
       "      <td>0</td>\n",
       "      <td>0</td>\n",
       "      <td>0</td>\n",
       "      <td>0</td>\n",
       "      <td>1</td>\n",
       "      <td>16</td>\n",
       "      <td>28</td>\n",
       "      <td>2</td>\n",
       "      <td>1</td>\n",
       "      <td>0</td>\n",
       "      <td>48</td>\n",
       "    </tr>\n",
       "    <tr>\n",
       "      <th>Prehistoric</th>\n",
       "      <td>0</td>\n",
       "      <td>0</td>\n",
       "      <td>0</td>\n",
       "      <td>0</td>\n",
       "      <td>8</td>\n",
       "      <td>7</td>\n",
       "      <td>4</td>\n",
       "      <td>1</td>\n",
       "      <td>0</td>\n",
       "      <td>0</td>\n",
       "      <td>20</td>\n",
       "    </tr>\n",
       "    <tr>\n",
       "      <th>Print &amp; Play</th>\n",
       "      <td>0</td>\n",
       "      <td>0</td>\n",
       "      <td>0</td>\n",
       "      <td>5</td>\n",
       "      <td>12</td>\n",
       "      <td>30</td>\n",
       "      <td>44</td>\n",
       "      <td>12</td>\n",
       "      <td>1</td>\n",
       "      <td>0</td>\n",
       "      <td>104</td>\n",
       "    </tr>\n",
       "    <tr>\n",
       "      <th>Puzzle</th>\n",
       "      <td>0</td>\n",
       "      <td>0</td>\n",
       "      <td>2</td>\n",
       "      <td>12</td>\n",
       "      <td>14</td>\n",
       "      <td>37</td>\n",
       "      <td>15</td>\n",
       "      <td>2</td>\n",
       "      <td>0</td>\n",
       "      <td>0</td>\n",
       "      <td>82</td>\n",
       "    </tr>\n",
       "    <tr>\n",
       "      <th>Racing</th>\n",
       "      <td>0</td>\n",
       "      <td>0</td>\n",
       "      <td>4</td>\n",
       "      <td>16</td>\n",
       "      <td>36</td>\n",
       "      <td>86</td>\n",
       "      <td>48</td>\n",
       "      <td>7</td>\n",
       "      <td>0</td>\n",
       "      <td>0</td>\n",
       "      <td>197</td>\n",
       "    </tr>\n",
       "    <tr>\n",
       "      <th>Real-time</th>\n",
       "      <td>0</td>\n",
       "      <td>1</td>\n",
       "      <td>0</td>\n",
       "      <td>0</td>\n",
       "      <td>10</td>\n",
       "      <td>27</td>\n",
       "      <td>13</td>\n",
       "      <td>1</td>\n",
       "      <td>0</td>\n",
       "      <td>0</td>\n",
       "      <td>52</td>\n",
       "    </tr>\n",
       "    <tr>\n",
       "      <th>Religious</th>\n",
       "      <td>0</td>\n",
       "      <td>0</td>\n",
       "      <td>0</td>\n",
       "      <td>3</td>\n",
       "      <td>8</td>\n",
       "      <td>4</td>\n",
       "      <td>3</td>\n",
       "      <td>0</td>\n",
       "      <td>0</td>\n",
       "      <td>0</td>\n",
       "      <td>18</td>\n",
       "    </tr>\n",
       "    <tr>\n",
       "      <th>Renaissance</th>\n",
       "      <td>0</td>\n",
       "      <td>0</td>\n",
       "      <td>0</td>\n",
       "      <td>0</td>\n",
       "      <td>3</td>\n",
       "      <td>19</td>\n",
       "      <td>15</td>\n",
       "      <td>5</td>\n",
       "      <td>1</td>\n",
       "      <td>0</td>\n",
       "      <td>43</td>\n",
       "    </tr>\n",
       "    <tr>\n",
       "      <th>Science Fiction</th>\n",
       "      <td>0</td>\n",
       "      <td>0</td>\n",
       "      <td>4</td>\n",
       "      <td>8</td>\n",
       "      <td>38</td>\n",
       "      <td>93</td>\n",
       "      <td>51</td>\n",
       "      <td>10</td>\n",
       "      <td>0</td>\n",
       "      <td>1</td>\n",
       "      <td>205</td>\n",
       "    </tr>\n",
       "    <tr>\n",
       "      <th>Space Exploration</th>\n",
       "      <td>0</td>\n",
       "      <td>0</td>\n",
       "      <td>0</td>\n",
       "      <td>0</td>\n",
       "      <td>2</td>\n",
       "      <td>2</td>\n",
       "      <td>2</td>\n",
       "      <td>0</td>\n",
       "      <td>0</td>\n",
       "      <td>0</td>\n",
       "      <td>6</td>\n",
       "    </tr>\n",
       "    <tr>\n",
       "      <th>Spies/Secret Agents</th>\n",
       "      <td>0</td>\n",
       "      <td>0</td>\n",
       "      <td>0</td>\n",
       "      <td>4</td>\n",
       "      <td>5</td>\n",
       "      <td>4</td>\n",
       "      <td>2</td>\n",
       "      <td>1</td>\n",
       "      <td>0</td>\n",
       "      <td>0</td>\n",
       "      <td>16</td>\n",
       "    </tr>\n",
       "    <tr>\n",
       "      <th>Sports</th>\n",
       "      <td>0</td>\n",
       "      <td>0</td>\n",
       "      <td>8</td>\n",
       "      <td>18</td>\n",
       "      <td>40</td>\n",
       "      <td>72</td>\n",
       "      <td>62</td>\n",
       "      <td>31</td>\n",
       "      <td>2</td>\n",
       "      <td>0</td>\n",
       "      <td>233</td>\n",
       "    </tr>\n",
       "    <tr>\n",
       "      <th>Territory Building</th>\n",
       "      <td>0</td>\n",
       "      <td>0</td>\n",
       "      <td>0</td>\n",
       "      <td>2</td>\n",
       "      <td>3</td>\n",
       "      <td>21</td>\n",
       "      <td>9</td>\n",
       "      <td>1</td>\n",
       "      <td>0</td>\n",
       "      <td>0</td>\n",
       "      <td>36</td>\n",
       "    </tr>\n",
       "    <tr>\n",
       "      <th>Trains</th>\n",
       "      <td>0</td>\n",
       "      <td>0</td>\n",
       "      <td>1</td>\n",
       "      <td>4</td>\n",
       "      <td>10</td>\n",
       "      <td>17</td>\n",
       "      <td>23</td>\n",
       "      <td>4</td>\n",
       "      <td>0</td>\n",
       "      <td>0</td>\n",
       "      <td>59</td>\n",
       "    </tr>\n",
       "    <tr>\n",
       "      <th>Transportation</th>\n",
       "      <td>0</td>\n",
       "      <td>1</td>\n",
       "      <td>0</td>\n",
       "      <td>6</td>\n",
       "      <td>10</td>\n",
       "      <td>14</td>\n",
       "      <td>5</td>\n",
       "      <td>0</td>\n",
       "      <td>0</td>\n",
       "      <td>0</td>\n",
       "      <td>36</td>\n",
       "    </tr>\n",
       "    <tr>\n",
       "      <th>Travel</th>\n",
       "      <td>0</td>\n",
       "      <td>0</td>\n",
       "      <td>3</td>\n",
       "      <td>5</td>\n",
       "      <td>9</td>\n",
       "      <td>14</td>\n",
       "      <td>5</td>\n",
       "      <td>1</td>\n",
       "      <td>0</td>\n",
       "      <td>0</td>\n",
       "      <td>37</td>\n",
       "    </tr>\n",
       "    <tr>\n",
       "      <th>Trivia</th>\n",
       "      <td>0</td>\n",
       "      <td>2</td>\n",
       "      <td>10</td>\n",
       "      <td>29</td>\n",
       "      <td>59</td>\n",
       "      <td>53</td>\n",
       "      <td>14</td>\n",
       "      <td>0</td>\n",
       "      <td>0</td>\n",
       "      <td>0</td>\n",
       "      <td>167</td>\n",
       "    </tr>\n",
       "    <tr>\n",
       "      <th>Video Game Theme</th>\n",
       "      <td>0</td>\n",
       "      <td>0</td>\n",
       "      <td>0</td>\n",
       "      <td>1</td>\n",
       "      <td>6</td>\n",
       "      <td>2</td>\n",
       "      <td>0</td>\n",
       "      <td>0</td>\n",
       "      <td>0</td>\n",
       "      <td>0</td>\n",
       "      <td>9</td>\n",
       "    </tr>\n",
       "    <tr>\n",
       "      <th>Vietnam War</th>\n",
       "      <td>0</td>\n",
       "      <td>0</td>\n",
       "      <td>0</td>\n",
       "      <td>4</td>\n",
       "      <td>5</td>\n",
       "      <td>11</td>\n",
       "      <td>14</td>\n",
       "      <td>6</td>\n",
       "      <td>0</td>\n",
       "      <td>0</td>\n",
       "      <td>40</td>\n",
       "    </tr>\n",
       "    <tr>\n",
       "      <th>Wargame</th>\n",
       "      <td>0</td>\n",
       "      <td>0</td>\n",
       "      <td>6</td>\n",
       "      <td>19</td>\n",
       "      <td>113</td>\n",
       "      <td>430</td>\n",
       "      <td>481</td>\n",
       "      <td>142</td>\n",
       "      <td>7</td>\n",
       "      <td>0</td>\n",
       "      <td>1198</td>\n",
       "    </tr>\n",
       "    <tr>\n",
       "      <th>Word Game</th>\n",
       "      <td>0</td>\n",
       "      <td>1</td>\n",
       "      <td>0</td>\n",
       "      <td>11</td>\n",
       "      <td>33</td>\n",
       "      <td>70</td>\n",
       "      <td>19</td>\n",
       "      <td>1</td>\n",
       "      <td>0</td>\n",
       "      <td>0</td>\n",
       "      <td>135</td>\n",
       "    </tr>\n",
       "    <tr>\n",
       "      <th>World War I</th>\n",
       "      <td>0</td>\n",
       "      <td>0</td>\n",
       "      <td>0</td>\n",
       "      <td>0</td>\n",
       "      <td>0</td>\n",
       "      <td>1</td>\n",
       "      <td>0</td>\n",
       "      <td>1</td>\n",
       "      <td>0</td>\n",
       "      <td>0</td>\n",
       "      <td>2</td>\n",
       "    </tr>\n",
       "    <tr>\n",
       "      <th>World War II</th>\n",
       "      <td>0</td>\n",
       "      <td>0</td>\n",
       "      <td>1</td>\n",
       "      <td>0</td>\n",
       "      <td>3</td>\n",
       "      <td>5</td>\n",
       "      <td>10</td>\n",
       "      <td>2</td>\n",
       "      <td>1</td>\n",
       "      <td>0</td>\n",
       "      <td>22</td>\n",
       "    </tr>\n",
       "    <tr>\n",
       "      <th>Zombies</th>\n",
       "      <td>0</td>\n",
       "      <td>0</td>\n",
       "      <td>0</td>\n",
       "      <td>0</td>\n",
       "      <td>3</td>\n",
       "      <td>5</td>\n",
       "      <td>0</td>\n",
       "      <td>1</td>\n",
       "      <td>0</td>\n",
       "      <td>0</td>\n",
       "      <td>9</td>\n",
       "    </tr>\n",
       "    <tr>\n",
       "      <th>All</th>\n",
       "      <td>5</td>\n",
       "      <td>66</td>\n",
       "      <td>358</td>\n",
       "      <td>1829</td>\n",
       "      <td>4858</td>\n",
       "      <td>8985</td>\n",
       "      <td>5776</td>\n",
       "      <td>1584</td>\n",
       "      <td>125</td>\n",
       "      <td>6</td>\n",
       "      <td>23592</td>\n",
       "    </tr>\n",
       "  </tbody>\n",
       "</table>\n",
       "<p>84 rows × 11 columns</p>\n",
       "</div>"
      ],
      "text/plain": [
       "average                     1.0  2.0  3.0   4.0   5.0   6.0   7.0   8.0  9.0  \\\n",
       "0                                                                              \n",
       "Abstract Strategy             0    1   15   114   429  1014   642   141    5   \n",
       "Action / Dexterity            1    4   12   141   394   574   238    37    1   \n",
       "Adventure                     0    2   12    56   155   300   193    70   14   \n",
       "Age of Reason                 0    0    0     1     7    49    67    23    2   \n",
       "American Civil War            0    0    3     5    20    96   125    48    1   \n",
       "American Indian Wars          0    0    1     0     2     8    11     9    0   \n",
       "American Revolutionary War    0    0    0     0     2     6     9     5    0   \n",
       "American West                 0    0    1    13    36    65    38     6    0   \n",
       "Ancient                       0    0    1    19    45   211   221    54    2   \n",
       "Animals                       1    1   18    85   267   479   173    31    0   \n",
       "Arabian                       0    0    0     2    12    35    18     1    0   \n",
       "Aviation / Flight             0    0    1     6    31    66    65    30    2   \n",
       "Bluffing                      0    0   14    45   163   376   271    52    2   \n",
       "Book                          0    0    0     2     1    18    33    26    1   \n",
       "Card Game                     0   13   62   302   918  1840   972   251   31   \n",
       "Children's Game               0    7   44   246   417   351   100     6    0   \n",
       "City Building                 0    0    1     3    16    63    75    17    1   \n",
       "Civil War                     0    0    0     0    10    26    33     8    0   \n",
       "Civilization                  0    0    0     3     7    16    53    17    6   \n",
       "Collectible Components        0    0    2     1    17    31    10     6    0   \n",
       "Comic Book / Strip            0    1    4    18    29    34    11     1    2   \n",
       "Deduction                     0    1    1    27    85   169    69    23    0   \n",
       "Dice                          1    3   24    96   232   345   175    46    7   \n",
       "Economic                      1    3   23   119   253   282   245    78    4   \n",
       "Educational                   0    2   10    33    78    75    38     6    3   \n",
       "Electronic                    0    1    2    10    32    36     8     2    0   \n",
       "Environmental                 0    0    1     3     4     5     5     2    1   \n",
       "Expansion for Base-game       0    0    0     0     2     3     7     6    0   \n",
       "Exploration                   0    1    4    13    25    58    43    11    3   \n",
       "Fantasy                       0    2    8    24    74   172   122    47    9   \n",
       "...                         ...  ...  ...   ...   ...   ...   ...   ...  ...   \n",
       "Number                        0    1    2     3     7     4     1     1    0   \n",
       "Party Game                    0    1   12    62   163   217    71     9    0   \n",
       "Pike and Shot                 0    0    0     0     4     6    12     7    1   \n",
       "Pirates                       0    0    0     1     7    13     7     1    1   \n",
       "Political                     0    1    3    10    12    27    29    12    0   \n",
       "Post-Napoleonic               0    0    0     0     1    16    28     2    1   \n",
       "Prehistoric                   0    0    0     0     8     7     4     1    0   \n",
       "Print & Play                  0    0    0     5    12    30    44    12    1   \n",
       "Puzzle                        0    0    2    12    14    37    15     2    0   \n",
       "Racing                        0    0    4    16    36    86    48     7    0   \n",
       "Real-time                     0    1    0     0    10    27    13     1    0   \n",
       "Religious                     0    0    0     3     8     4     3     0    0   \n",
       "Renaissance                   0    0    0     0     3    19    15     5    1   \n",
       "Science Fiction               0    0    4     8    38    93    51    10    0   \n",
       "Space Exploration             0    0    0     0     2     2     2     0    0   \n",
       "Spies/Secret Agents           0    0    0     4     5     4     2     1    0   \n",
       "Sports                        0    0    8    18    40    72    62    31    2   \n",
       "Territory Building            0    0    0     2     3    21     9     1    0   \n",
       "Trains                        0    0    1     4    10    17    23     4    0   \n",
       "Transportation                0    1    0     6    10    14     5     0    0   \n",
       "Travel                        0    0    3     5     9    14     5     1    0   \n",
       "Trivia                        0    2   10    29    59    53    14     0    0   \n",
       "Video Game Theme              0    0    0     1     6     2     0     0    0   \n",
       "Vietnam War                   0    0    0     4     5    11    14     6    0   \n",
       "Wargame                       0    0    6    19   113   430   481   142    7   \n",
       "Word Game                     0    1    0    11    33    70    19     1    0   \n",
       "World War I                   0    0    0     0     0     1     0     1    0   \n",
       "World War II                  0    0    1     0     3     5    10     2    1   \n",
       "Zombies                       0    0    0     0     3     5     0     1    0   \n",
       "All                           5   66  358  1829  4858  8985  5776  1584  125   \n",
       "\n",
       "average                     10.0    All  \n",
       "0                                        \n",
       "Abstract Strategy              1   2362  \n",
       "Action / Dexterity             0   1402  \n",
       "Adventure                      0    802  \n",
       "Age of Reason                  0    149  \n",
       "American Civil War             0    298  \n",
       "American Indian Wars           0     31  \n",
       "American Revolutionary War     0     22  \n",
       "American West                  0    159  \n",
       "Ancient                        0    553  \n",
       "Animals                        0   1055  \n",
       "Arabian                        0     68  \n",
       "Aviation / Flight              0    201  \n",
       "Bluffing                       0    923  \n",
       "Book                           0     81  \n",
       "Card Game                      2   4391  \n",
       "Children's Game                0   1171  \n",
       "City Building                  1    177  \n",
       "Civil War                      0     77  \n",
       "Civilization                   0    102  \n",
       "Collectible Components         0     67  \n",
       "Comic Book / Strip             0    100  \n",
       "Deduction                      0    375  \n",
       "Dice                           0    929  \n",
       "Economic                       0   1008  \n",
       "Educational                    0    245  \n",
       "Electronic                     0     91  \n",
       "Environmental                  0     21  \n",
       "Expansion for Base-game        0     18  \n",
       "Exploration                    0    158  \n",
       "Fantasy                        1    459  \n",
       "...                          ...    ...  \n",
       "Number                         0     19  \n",
       "Party Game                     0    535  \n",
       "Pike and Shot                  0     30  \n",
       "Pirates                        0     30  \n",
       "Political                      0     94  \n",
       "Post-Napoleonic                0     48  \n",
       "Prehistoric                    0     20  \n",
       "Print & Play                   0    104  \n",
       "Puzzle                         0     82  \n",
       "Racing                         0    197  \n",
       "Real-time                      0     52  \n",
       "Religious                      0     18  \n",
       "Renaissance                    0     43  \n",
       "Science Fiction                1    205  \n",
       "Space Exploration              0      6  \n",
       "Spies/Secret Agents            0     16  \n",
       "Sports                         0    233  \n",
       "Territory Building             0     36  \n",
       "Trains                         0     59  \n",
       "Transportation                 0     36  \n",
       "Travel                         0     37  \n",
       "Trivia                         0    167  \n",
       "Video Game Theme               0      9  \n",
       "Vietnam War                    0     40  \n",
       "Wargame                        0   1198  \n",
       "Word Game                      0    135  \n",
       "World War I                    0      2  \n",
       "World War II                   0     22  \n",
       "Zombies                        0      9  \n",
       "All                            6  23592  \n",
       "\n",
       "[84 rows x 11 columns]"
      ]
     },
     "execution_count": 79,
     "metadata": {},
     "output_type": "execute_result"
    }
   ],
   "source": [
    "category_db=games.category.str.split(',', expand=True)\n",
    "category_db.stack().value_counts()\n",
    "category_db=pd.concat([category_db, games[\"year\"], games[\"average\"], games[\"geekscore\"]], axis=1, join=\"inner\")\n",
    "category_db[0]=category_db[0].replace(\"nan\", np.nan)\n",
    "averages=games.average.round()\n",
    "catcrosstab=pd.crosstab(index=category_db[0], columns=averages, margins=True)\n",
    "catcrosstab"
   ]
  },
  {
   "cell_type": "markdown",
   "metadata": {},
   "source": [
    "This helps us see the distribution of a game's rating by category, and it also helps us see how dominant some particular categories are for gamers. But it's not that well arranged, and thus, isn't all that informative or useful."
   ]
  },
  {
   "cell_type": "code",
   "execution_count": 80,
   "metadata": {
    "collapsed": true
   },
   "outputs": [],
   "source": [
    "cats=category_db.loc[:,0]\n",
    "cats=list(set(cats))\n",
    "cats=cats[1:]  # a list of all categories\n",
    "categorydf=pd.concat([games[\"category\"],games[\"average\"], games[\"geekscore\"], games[\"year\"]], axis=1) # a dataframe of categories"
   ]
  },
  {
   "cell_type": "code",
   "execution_count": 81,
   "metadata": {
    "collapsed": true
   },
   "outputs": [],
   "source": [
    "d={}\n",
    "for i in cats:\n",
    "    d[i]=categorydf[categorydf.category.str.contains(i)] #a dictionary with all instances of a particular category in it\n",
    "df_list=[]\n",
    "averages=[]\n",
    "geekscores=[]\n",
    "medianaverage=[]\n",
    "for x,y in d.items():\n",
    "    df_list.append(y)  #appended this all to a list\n",
    "for i in df_list:\n",
    "    averages.append(i[\"average\"].mean())\n",
    "    geekscores.append(i[\"geekscore\"].mean())  \n",
    "    medianaverage.append(i[\"average\"].median()) #pulled out relevant stats for each category of game\n",
    "header=[\"category\", \"average\", \"meangeekscore\", \"medianaverage\"]\n",
    "categ=pd.DataFrame(data=[cats,averages, geekscores, medianaverage]) #put them in a dataframe\n",
    "categ=categ.transpose()\n",
    "categ.columns=header"
   ]
  },
  {
   "cell_type": "code",
   "execution_count": 82,
   "metadata": {},
   "outputs": [
    {
     "data": {
      "text/html": [
       "<div>\n",
       "<style>\n",
       "    .dataframe thead tr:only-child th {\n",
       "        text-align: right;\n",
       "    }\n",
       "\n",
       "    .dataframe thead th {\n",
       "        text-align: left;\n",
       "    }\n",
       "\n",
       "    .dataframe tbody tr th {\n",
       "        vertical-align: top;\n",
       "    }\n",
       "</style>\n",
       "<table border=\"1\" class=\"dataframe\">\n",
       "  <thead>\n",
       "    <tr style=\"text-align: right;\">\n",
       "      <th></th>\n",
       "      <th>category</th>\n",
       "      <th>average</th>\n",
       "      <th>meangeekscore</th>\n",
       "      <th>medianaverage</th>\n",
       "    </tr>\n",
       "  </thead>\n",
       "  <tbody>\n",
       "    <tr>\n",
       "      <th>32</th>\n",
       "      <td>Miniatures</td>\n",
       "      <td>6.8043</td>\n",
       "      <td>1.83113</td>\n",
       "      <td>6.91988</td>\n",
       "    </tr>\n",
       "    <tr>\n",
       "      <th>45</th>\n",
       "      <td>Game System</td>\n",
       "      <td>6.79292</td>\n",
       "      <td>2.24524</td>\n",
       "      <td>6.8104</td>\n",
       "    </tr>\n",
       "    <tr>\n",
       "      <th>72</th>\n",
       "      <td>Expansion for Base-game</td>\n",
       "      <td>6.78699</td>\n",
       "      <td>1.4415</td>\n",
       "      <td>7.1</td>\n",
       "    </tr>\n",
       "    <tr>\n",
       "      <th>26</th>\n",
       "      <td>Post-Napoleonic</td>\n",
       "      <td>6.7858</td>\n",
       "      <td>3.62574</td>\n",
       "      <td>6.63579</td>\n",
       "    </tr>\n",
       "    <tr>\n",
       "      <th>29</th>\n",
       "      <td>American Revolutionary War</td>\n",
       "      <td>6.77327</td>\n",
       "      <td>3.31769</td>\n",
       "      <td>6.96185</td>\n",
       "    </tr>\n",
       "    <tr>\n",
       "      <th>63</th>\n",
       "      <td>American Indian Wars</td>\n",
       "      <td>6.76681</td>\n",
       "      <td>2.23789</td>\n",
       "      <td>6.92941</td>\n",
       "    </tr>\n",
       "    <tr>\n",
       "      <th>71</th>\n",
       "      <td>Korean War</td>\n",
       "      <td>6.75767</td>\n",
       "      <td>2.82176</td>\n",
       "      <td>6.81894</td>\n",
       "    </tr>\n",
       "    <tr>\n",
       "      <th>10</th>\n",
       "      <td>Civilization</td>\n",
       "      <td>6.75498</td>\n",
       "      <td>3.55325</td>\n",
       "      <td>6.87877</td>\n",
       "    </tr>\n",
       "    <tr>\n",
       "      <th>48</th>\n",
       "      <td>Napoleonic</td>\n",
       "      <td>6.74764</td>\n",
       "      <td>2.91125</td>\n",
       "      <td>6.78784</td>\n",
       "    </tr>\n",
       "    <tr>\n",
       "      <th>36</th>\n",
       "      <td>Age of Reason</td>\n",
       "      <td>6.74154</td>\n",
       "      <td>3.56067</td>\n",
       "      <td>6.74108</td>\n",
       "    </tr>\n",
       "    <tr>\n",
       "      <th>0</th>\n",
       "      <td>Pike and Shot</td>\n",
       "      <td>6.61499</td>\n",
       "      <td>3.11461</td>\n",
       "      <td>6.6</td>\n",
       "    </tr>\n",
       "    <tr>\n",
       "      <th>52</th>\n",
       "      <td>Civil War</td>\n",
       "      <td>6.59667</td>\n",
       "      <td>2.97572</td>\n",
       "      <td>6.67031</td>\n",
       "    </tr>\n",
       "    <tr>\n",
       "      <th>43</th>\n",
       "      <td>Renaissance</td>\n",
       "      <td>6.59512</td>\n",
       "      <td>3.75607</td>\n",
       "      <td>6.57791</td>\n",
       "    </tr>\n",
       "    <tr>\n",
       "      <th>64</th>\n",
       "      <td>World War I</td>\n",
       "      <td>6.5912</td>\n",
       "      <td>2.9935</td>\n",
       "      <td>6.63529</td>\n",
       "    </tr>\n",
       "    <tr>\n",
       "      <th>33</th>\n",
       "      <td>American Civil War</td>\n",
       "      <td>6.5911</td>\n",
       "      <td>2.95475</td>\n",
       "      <td>6.6737</td>\n",
       "    </tr>\n",
       "    <tr>\n",
       "      <th>74</th>\n",
       "      <td>World War II</td>\n",
       "      <td>6.55945</td>\n",
       "      <td>2.99271</td>\n",
       "      <td>6.59648</td>\n",
       "    </tr>\n",
       "    <tr>\n",
       "      <th>62</th>\n",
       "      <td>Wargame</td>\n",
       "      <td>6.54381</td>\n",
       "      <td>2.87041</td>\n",
       "      <td>6.57733</td>\n",
       "    </tr>\n",
       "    <tr>\n",
       "      <th>6</th>\n",
       "      <td>Territory Building</td>\n",
       "      <td>6.54157</td>\n",
       "      <td>3.5327</td>\n",
       "      <td>6.56276</td>\n",
       "    </tr>\n",
       "    <tr>\n",
       "      <th>77</th>\n",
       "      <td>City Building</td>\n",
       "      <td>6.53161</td>\n",
       "      <td>3.8793</td>\n",
       "      <td>6.59133</td>\n",
       "    </tr>\n",
       "    <tr>\n",
       "      <th>53</th>\n",
       "      <td>Print &amp; Play</td>\n",
       "      <td>6.51049</td>\n",
       "      <td>1.45688</td>\n",
       "      <td>6.60417</td>\n",
       "    </tr>\n",
       "  </tbody>\n",
       "</table>\n",
       "</div>"
      ],
      "text/plain": [
       "                      category  average meangeekscore medianaverage\n",
       "32                  Miniatures   6.8043       1.83113       6.91988\n",
       "45                 Game System  6.79292       2.24524        6.8104\n",
       "72     Expansion for Base-game  6.78699        1.4415           7.1\n",
       "26             Post-Napoleonic   6.7858       3.62574       6.63579\n",
       "29  American Revolutionary War  6.77327       3.31769       6.96185\n",
       "63        American Indian Wars  6.76681       2.23789       6.92941\n",
       "71                  Korean War  6.75767       2.82176       6.81894\n",
       "10                Civilization  6.75498       3.55325       6.87877\n",
       "48                  Napoleonic  6.74764       2.91125       6.78784\n",
       "36               Age of Reason  6.74154       3.56067       6.74108\n",
       "0                Pike and Shot  6.61499       3.11461           6.6\n",
       "52                   Civil War  6.59667       2.97572       6.67031\n",
       "43                 Renaissance  6.59512       3.75607       6.57791\n",
       "64                 World War I   6.5912        2.9935       6.63529\n",
       "33          American Civil War   6.5911       2.95475        6.6737\n",
       "74                World War II  6.55945       2.99271       6.59648\n",
       "62                     Wargame  6.54381       2.87041       6.57733\n",
       "6           Territory Building  6.54157        3.5327       6.56276\n",
       "77               City Building  6.53161        3.8793       6.59133\n",
       "53                Print & Play  6.51049       1.45688       6.60417"
      ]
     },
     "execution_count": 82,
     "metadata": {},
     "output_type": "execute_result"
    }
   ],
   "source": [
    "categ.sort_values(\"average\", ascending=False).head(20) #the top twenty types of games by average (just user ratings--not weighted)"
   ]
  },
  {
   "cell_type": "markdown",
   "metadata": {},
   "source": [
    "So what seems clear here is that war games tend to be the highest rated (accounting for most of the top ten). I would bet that the prevalence of games from the early modern period has something to do with a fairly low prevalence of these games. But the wargame's prevalence seems meaningful, as does the high place of the miniature category and the expansion to a base game, as these are probably games with fairly interested game playing audiences (perhaps also true of the war game more generally)."
   ]
  },
  {
   "cell_type": "code",
   "execution_count": 83,
   "metadata": {},
   "outputs": [
    {
     "data": {
      "text/html": [
       "<div>\n",
       "<style>\n",
       "    .dataframe thead tr:only-child th {\n",
       "        text-align: right;\n",
       "    }\n",
       "\n",
       "    .dataframe thead th {\n",
       "        text-align: left;\n",
       "    }\n",
       "\n",
       "    .dataframe tbody tr th {\n",
       "        vertical-align: top;\n",
       "    }\n",
       "</style>\n",
       "<table border=\"1\" class=\"dataframe\">\n",
       "  <thead>\n",
       "    <tr style=\"text-align: right;\">\n",
       "      <th></th>\n",
       "      <th>category</th>\n",
       "      <th>average</th>\n",
       "      <th>meangeekscore</th>\n",
       "      <th>medianaverage</th>\n",
       "    </tr>\n",
       "  </thead>\n",
       "  <tbody>\n",
       "    <tr>\n",
       "      <th>77</th>\n",
       "      <td>City Building</td>\n",
       "      <td>6.53161</td>\n",
       "      <td>3.8793</td>\n",
       "      <td>6.59133</td>\n",
       "    </tr>\n",
       "    <tr>\n",
       "      <th>43</th>\n",
       "      <td>Renaissance</td>\n",
       "      <td>6.59512</td>\n",
       "      <td>3.75607</td>\n",
       "      <td>6.57791</td>\n",
       "    </tr>\n",
       "    <tr>\n",
       "      <th>26</th>\n",
       "      <td>Post-Napoleonic</td>\n",
       "      <td>6.7858</td>\n",
       "      <td>3.62574</td>\n",
       "      <td>6.63579</td>\n",
       "    </tr>\n",
       "    <tr>\n",
       "      <th>16</th>\n",
       "      <td>Arabian</td>\n",
       "      <td>6.13217</td>\n",
       "      <td>3.56169</td>\n",
       "      <td>6.16599</td>\n",
       "    </tr>\n",
       "    <tr>\n",
       "      <th>36</th>\n",
       "      <td>Age of Reason</td>\n",
       "      <td>6.74154</td>\n",
       "      <td>3.56067</td>\n",
       "      <td>6.74108</td>\n",
       "    </tr>\n",
       "    <tr>\n",
       "      <th>10</th>\n",
       "      <td>Civilization</td>\n",
       "      <td>6.75498</td>\n",
       "      <td>3.55325</td>\n",
       "      <td>6.87877</td>\n",
       "    </tr>\n",
       "    <tr>\n",
       "      <th>6</th>\n",
       "      <td>Territory Building</td>\n",
       "      <td>6.54157</td>\n",
       "      <td>3.5327</td>\n",
       "      <td>6.56276</td>\n",
       "    </tr>\n",
       "    <tr>\n",
       "      <th>81</th>\n",
       "      <td>Aviation / Flight</td>\n",
       "      <td>6.3595</td>\n",
       "      <td>3.49743</td>\n",
       "      <td>6.43144</td>\n",
       "    </tr>\n",
       "    <tr>\n",
       "      <th>34</th>\n",
       "      <td>Industry / Manufacturing</td>\n",
       "      <td>6.4127</td>\n",
       "      <td>3.46639</td>\n",
       "      <td>6.43447</td>\n",
       "    </tr>\n",
       "    <tr>\n",
       "      <th>7</th>\n",
       "      <td>Ancient</td>\n",
       "      <td>6.39481</td>\n",
       "      <td>3.37654</td>\n",
       "      <td>6.45516</td>\n",
       "    </tr>\n",
       "    <tr>\n",
       "      <th>29</th>\n",
       "      <td>American Revolutionary War</td>\n",
       "      <td>6.77327</td>\n",
       "      <td>3.31769</td>\n",
       "      <td>6.96185</td>\n",
       "    </tr>\n",
       "    <tr>\n",
       "      <th>38</th>\n",
       "      <td>Trains</td>\n",
       "      <td>6.39667</td>\n",
       "      <td>3.22461</td>\n",
       "      <td>6.59791</td>\n",
       "    </tr>\n",
       "    <tr>\n",
       "      <th>69</th>\n",
       "      <td>Pirates</td>\n",
       "      <td>6.02328</td>\n",
       "      <td>3.21804</td>\n",
       "      <td>6.049</td>\n",
       "    </tr>\n",
       "    <tr>\n",
       "      <th>42</th>\n",
       "      <td>Collectible Components</td>\n",
       "      <td>5.82925</td>\n",
       "      <td>3.1597</td>\n",
       "      <td>5.91</td>\n",
       "    </tr>\n",
       "    <tr>\n",
       "      <th>0</th>\n",
       "      <td>Pike and Shot</td>\n",
       "      <td>6.61499</td>\n",
       "      <td>3.11461</td>\n",
       "      <td>6.6</td>\n",
       "    </tr>\n",
       "    <tr>\n",
       "      <th>66</th>\n",
       "      <td>Mythology</td>\n",
       "      <td>6.33902</td>\n",
       "      <td>3.10256</td>\n",
       "      <td>6.38081</td>\n",
       "    </tr>\n",
       "    <tr>\n",
       "      <th>12</th>\n",
       "      <td>Exploration</td>\n",
       "      <td>6.21513</td>\n",
       "      <td>3.0978</td>\n",
       "      <td>6.28571</td>\n",
       "    </tr>\n",
       "    <tr>\n",
       "      <th>40</th>\n",
       "      <td>Real-time</td>\n",
       "      <td>5.92414</td>\n",
       "      <td>3.06866</td>\n",
       "      <td>5.97761</td>\n",
       "    </tr>\n",
       "    <tr>\n",
       "      <th>78</th>\n",
       "      <td>Nautical</td>\n",
       "      <td>6.20218</td>\n",
       "      <td>3.0665</td>\n",
       "      <td>6.29167</td>\n",
       "    </tr>\n",
       "    <tr>\n",
       "      <th>44</th>\n",
       "      <td>Maze</td>\n",
       "      <td>5.8967</td>\n",
       "      <td>3.04215</td>\n",
       "      <td>5.88451</td>\n",
       "    </tr>\n",
       "  </tbody>\n",
       "</table>\n",
       "</div>"
      ],
      "text/plain": [
       "                      category  average meangeekscore medianaverage\n",
       "77               City Building  6.53161        3.8793       6.59133\n",
       "43                 Renaissance  6.59512       3.75607       6.57791\n",
       "26             Post-Napoleonic   6.7858       3.62574       6.63579\n",
       "16                     Arabian  6.13217       3.56169       6.16599\n",
       "36               Age of Reason  6.74154       3.56067       6.74108\n",
       "10                Civilization  6.75498       3.55325       6.87877\n",
       "6           Territory Building  6.54157        3.5327       6.56276\n",
       "81           Aviation / Flight   6.3595       3.49743       6.43144\n",
       "34    Industry / Manufacturing   6.4127       3.46639       6.43447\n",
       "7                      Ancient  6.39481       3.37654       6.45516\n",
       "29  American Revolutionary War  6.77327       3.31769       6.96185\n",
       "38                      Trains  6.39667       3.22461       6.59791\n",
       "69                     Pirates  6.02328       3.21804         6.049\n",
       "42      Collectible Components  5.82925        3.1597          5.91\n",
       "0                Pike and Shot  6.61499       3.11461           6.6\n",
       "66                   Mythology  6.33902       3.10256       6.38081\n",
       "12                 Exploration  6.21513        3.0978       6.28571\n",
       "40                   Real-time  5.92414       3.06866       5.97761\n",
       "78                    Nautical  6.20218        3.0665       6.29167\n",
       "44                        Maze   5.8967       3.04215       5.88451"
      ]
     },
     "execution_count": 83,
     "metadata": {},
     "output_type": "execute_result"
    }
   ],
   "source": [
    "categ.sort_values(\"meangeekscore\", ascending=False).head(20)"
   ]
  },
  {
   "cell_type": "markdown",
   "metadata": {},
   "source": [
    "The geekscore is (in general) much lower than the average, and it seems to prioritize games of a somewhat different genre, such as trains, ancient, nautrical, territory building, and civilization, most of which do not have the same prominence in the above list. Geekscores are crowdsourced from a particular community of users of the site, and thus, tend to be much more selective, and focus on a more euro style game than a war game. "
   ]
  },
  {
   "cell_type": "code",
   "execution_count": 84,
   "metadata": {},
   "outputs": [
    {
     "data": {
      "text/html": [
       "<div>\n",
       "<style>\n",
       "    .dataframe thead tr:only-child th {\n",
       "        text-align: right;\n",
       "    }\n",
       "\n",
       "    .dataframe thead th {\n",
       "        text-align: left;\n",
       "    }\n",
       "\n",
       "    .dataframe tbody tr th {\n",
       "        vertical-align: top;\n",
       "    }\n",
       "</style>\n",
       "<table border=\"1\" class=\"dataframe\">\n",
       "  <thead>\n",
       "    <tr style=\"text-align: right;\">\n",
       "      <th></th>\n",
       "      <th>category</th>\n",
       "      <th>average</th>\n",
       "      <th>meangeekscore</th>\n",
       "      <th>medianaverage</th>\n",
       "    </tr>\n",
       "  </thead>\n",
       "  <tbody>\n",
       "    <tr>\n",
       "      <th>72</th>\n",
       "      <td>Expansion for Base-game</td>\n",
       "      <td>6.78699</td>\n",
       "      <td>1.4415</td>\n",
       "      <td>7.1</td>\n",
       "    </tr>\n",
       "    <tr>\n",
       "      <th>29</th>\n",
       "      <td>American Revolutionary War</td>\n",
       "      <td>6.77327</td>\n",
       "      <td>3.31769</td>\n",
       "      <td>6.96185</td>\n",
       "    </tr>\n",
       "    <tr>\n",
       "      <th>63</th>\n",
       "      <td>American Indian Wars</td>\n",
       "      <td>6.76681</td>\n",
       "      <td>2.23789</td>\n",
       "      <td>6.92941</td>\n",
       "    </tr>\n",
       "    <tr>\n",
       "      <th>32</th>\n",
       "      <td>Miniatures</td>\n",
       "      <td>6.8043</td>\n",
       "      <td>1.83113</td>\n",
       "      <td>6.91988</td>\n",
       "    </tr>\n",
       "    <tr>\n",
       "      <th>10</th>\n",
       "      <td>Civilization</td>\n",
       "      <td>6.75498</td>\n",
       "      <td>3.55325</td>\n",
       "      <td>6.87877</td>\n",
       "    </tr>\n",
       "    <tr>\n",
       "      <th>71</th>\n",
       "      <td>Korean War</td>\n",
       "      <td>6.75767</td>\n",
       "      <td>2.82176</td>\n",
       "      <td>6.81894</td>\n",
       "    </tr>\n",
       "    <tr>\n",
       "      <th>45</th>\n",
       "      <td>Game System</td>\n",
       "      <td>6.79292</td>\n",
       "      <td>2.24524</td>\n",
       "      <td>6.8104</td>\n",
       "    </tr>\n",
       "    <tr>\n",
       "      <th>48</th>\n",
       "      <td>Napoleonic</td>\n",
       "      <td>6.74764</td>\n",
       "      <td>2.91125</td>\n",
       "      <td>6.78784</td>\n",
       "    </tr>\n",
       "    <tr>\n",
       "      <th>36</th>\n",
       "      <td>Age of Reason</td>\n",
       "      <td>6.74154</td>\n",
       "      <td>3.56067</td>\n",
       "      <td>6.74108</td>\n",
       "    </tr>\n",
       "    <tr>\n",
       "      <th>60</th>\n",
       "      <td>Vietnam War</td>\n",
       "      <td>6.50972</td>\n",
       "      <td>2.91571</td>\n",
       "      <td>6.68818</td>\n",
       "    </tr>\n",
       "    <tr>\n",
       "      <th>33</th>\n",
       "      <td>American Civil War</td>\n",
       "      <td>6.5911</td>\n",
       "      <td>2.95475</td>\n",
       "      <td>6.6737</td>\n",
       "    </tr>\n",
       "    <tr>\n",
       "      <th>52</th>\n",
       "      <td>Civil War</td>\n",
       "      <td>6.59667</td>\n",
       "      <td>2.97572</td>\n",
       "      <td>6.67031</td>\n",
       "    </tr>\n",
       "    <tr>\n",
       "      <th>26</th>\n",
       "      <td>Post-Napoleonic</td>\n",
       "      <td>6.7858</td>\n",
       "      <td>3.62574</td>\n",
       "      <td>6.63579</td>\n",
       "    </tr>\n",
       "    <tr>\n",
       "      <th>64</th>\n",
       "      <td>World War I</td>\n",
       "      <td>6.5912</td>\n",
       "      <td>2.9935</td>\n",
       "      <td>6.63529</td>\n",
       "    </tr>\n",
       "    <tr>\n",
       "      <th>53</th>\n",
       "      <td>Print &amp; Play</td>\n",
       "      <td>6.51049</td>\n",
       "      <td>1.45688</td>\n",
       "      <td>6.60417</td>\n",
       "    </tr>\n",
       "    <tr>\n",
       "      <th>0</th>\n",
       "      <td>Pike and Shot</td>\n",
       "      <td>6.61499</td>\n",
       "      <td>3.11461</td>\n",
       "      <td>6.6</td>\n",
       "    </tr>\n",
       "    <tr>\n",
       "      <th>38</th>\n",
       "      <td>Trains</td>\n",
       "      <td>6.39667</td>\n",
       "      <td>3.22461</td>\n",
       "      <td>6.59791</td>\n",
       "    </tr>\n",
       "    <tr>\n",
       "      <th>74</th>\n",
       "      <td>World War II</td>\n",
       "      <td>6.55945</td>\n",
       "      <td>2.99271</td>\n",
       "      <td>6.59648</td>\n",
       "    </tr>\n",
       "    <tr>\n",
       "      <th>77</th>\n",
       "      <td>City Building</td>\n",
       "      <td>6.53161</td>\n",
       "      <td>3.8793</td>\n",
       "      <td>6.59133</td>\n",
       "    </tr>\n",
       "    <tr>\n",
       "      <th>43</th>\n",
       "      <td>Renaissance</td>\n",
       "      <td>6.59512</td>\n",
       "      <td>3.75607</td>\n",
       "      <td>6.57791</td>\n",
       "    </tr>\n",
       "  </tbody>\n",
       "</table>\n",
       "</div>"
      ],
      "text/plain": [
       "                      category  average meangeekscore medianaverage\n",
       "72     Expansion for Base-game  6.78699        1.4415           7.1\n",
       "29  American Revolutionary War  6.77327       3.31769       6.96185\n",
       "63        American Indian Wars  6.76681       2.23789       6.92941\n",
       "32                  Miniatures   6.8043       1.83113       6.91988\n",
       "10                Civilization  6.75498       3.55325       6.87877\n",
       "71                  Korean War  6.75767       2.82176       6.81894\n",
       "45                 Game System  6.79292       2.24524        6.8104\n",
       "48                  Napoleonic  6.74764       2.91125       6.78784\n",
       "36               Age of Reason  6.74154       3.56067       6.74108\n",
       "60                 Vietnam War  6.50972       2.91571       6.68818\n",
       "33          American Civil War   6.5911       2.95475        6.6737\n",
       "52                   Civil War  6.59667       2.97572       6.67031\n",
       "26             Post-Napoleonic   6.7858       3.62574       6.63579\n",
       "64                 World War I   6.5912        2.9935       6.63529\n",
       "53                Print & Play  6.51049       1.45688       6.60417\n",
       "0                Pike and Shot  6.61499       3.11461           6.6\n",
       "38                      Trains  6.39667       3.22461       6.59791\n",
       "74                World War II  6.55945       2.99271       6.59648\n",
       "77               City Building  6.53161        3.8793       6.59133\n",
       "43                 Renaissance  6.59512       3.75607       6.57791"
      ]
     },
     "execution_count": 84,
     "metadata": {},
     "output_type": "execute_result"
    }
   ],
   "source": [
    "categ.sort_values(\"medianaverage\", ascending=False).head(20)"
   ]
  },
  {
   "cell_type": "markdown",
   "metadata": {},
   "source": [
    "The median rating returns us to (primarily) war games again. Note also the prominence of expansions, whose median rating is very high. This illustrates an interesting dynamic, inasmuch as the players who take the time to rate games tend to like expansions, even though they have very low geekscores. "
   ]
  },
  {
   "cell_type": "markdown",
   "metadata": {},
   "source": [
    "There are some interesting trends here, namely the different prominence of war games and euro games, and I may have to spend more time being more precise with the labels to derive more specific insights from this categorical data."
   ]
  },
  {
   "cell_type": "markdown",
   "metadata": {},
   "source": [
    "# How have games changed between the 20th century and the 2000s?"
   ]
  },
  {
   "cell_type": "markdown",
   "metadata": {},
   "source": [
    "More games were produced in the 2000s than in the 20th century. One outgrowth of that is that the distribution of categories of games is significantly different."
   ]
  },
  {
   "cell_type": "code",
   "execution_count": 85,
   "metadata": {},
   "outputs": [
    {
     "name": "stderr",
     "output_type": "stream",
     "text": [
      "C:\\Users\\test\\Anaconda3\\lib\\site-packages\\pandas\\core\\generic.py:2999: SettingWithCopyWarning: \n",
      "A value is trying to be set on a copy of a slice from a DataFrame.\n",
      "Try using .loc[row_indexer,col_indexer] = value instead\n",
      "\n",
      "See the caveats in the documentation: http://pandas.pydata.org/pandas-docs/stable/indexing.html#indexing-view-versus-copy\n",
      "  self[name] = value\n"
     ]
    }
   ],
   "source": [
    "twothousands=games[games.year > 2000]\n",
    "twothousands.year=twothousands.year.astype(int)\n",
    "twencent=games[(games.year < 2000) & (games.year > 1900)]  #building twentieth century and two thousands dataframes"
   ]
  },
  {
   "cell_type": "code",
   "execution_count": 86,
   "metadata": {},
   "outputs": [
    {
     "data": {
      "text/plain": [
       "Ttest_indResult(statistic=3.1488279161596613, pvalue=0.0019442184816326335)"
      ]
     },
     "execution_count": 86,
     "metadata": {},
     "output_type": "execute_result"
    }
   ],
   "source": [
    "category_db_twencent=twencent.category.str.split(',', expand=True)\n",
    "twencat=category_db_twencent.stack().value_counts()\n",
    "category_db_twothousands=twothousands.category.str.split(',', expand=True)\n",
    "category_db_twothousands=category_db_twothousands.replace(\"nan\", np.nan)\n",
    "twothoucat=category_db_twothousands.stack().value_counts()  #making value counts based on twencent and twothousands dataframes\n",
    "stats.ttest_ind(twothoucat, twencat)"
   ]
  },
  {
   "cell_type": "markdown",
   "metadata": {},
   "source": [
    "So what this t test suggests is that part of the shift during the 2000s is a change in the distribution of categories and values, as there is a significant statistical difference between the two. "
   ]
  },
  {
   "cell_type": "code",
   "execution_count": 87,
   "metadata": {},
   "outputs": [
    {
     "data": {
      "text/plain": [
       "<matplotlib.text.Text at 0x23c0903d438>"
      ]
     },
     "execution_count": 87,
     "metadata": {},
     "output_type": "execute_result"
    },
    {
     "data": {
      "image/png": "[encoded data removed]",
      "text/plain": [
       "<matplotlib.figure.Figure at 0x23c122dc978>"
      ]
     },
     "metadata": {},
     "output_type": "display_data"
    }
   ],
   "source": [
    "twothoupop=twothoucat[twothoucat > 400]\n",
    "twothoupop.plot(kind=\"bar\")\n",
    "plt.title(\"Categories of 2000 Games with > 400 games\")"
   ]
  },
  {
   "cell_type": "code",
   "execution_count": 88,
   "metadata": {},
   "outputs": [
    {
     "data": {
      "text/plain": [
       "<matplotlib.text.Text at 0x23c08a84cc0>"
      ]
     },
     "execution_count": 88,
     "metadata": {},
     "output_type": "execute_result"
    },
    {
     "data": {
      "image/png": "[encoded data removed]",
      "text/plain": [
       "<matplotlib.figure.Figure at 0x23c0a518fd0>"
      ]
     },
     "metadata": {},
     "output_type": "display_data"
    }
   ],
   "source": [
    "twencatpop=twencat[twencat > 400]\n",
    "twencatpop.plot(kind=\"bar\")\n",
    "plt.title(\"Twentieth Century Game Categories with > 400 Games\")"
   ]
  },
  {
   "cell_type": "markdown",
   "metadata": {},
   "source": [
    "Note that there are far fewer categories with over 400 games in twentieth century games than there are in games from the 2000s. Wargames are the most twentieth century games (twice as many as card games), whereas card games in the 2000s are double war games (there is some overlap, surely, but the raw numbers are significant. "
   ]
  },
  {
   "cell_type": "code",
   "execution_count": 89,
   "metadata": {},
   "outputs": [
    {
     "data": {
      "text/plain": [
       "37"
      ]
     },
     "execution_count": 89,
     "metadata": {},
     "output_type": "execute_result"
    },
    {
     "data": {
      "image/png": "[encoded data removed]",
      "text/plain": [
       "<matplotlib.figure.Figure at 0x23c10bf1710>"
      ]
     },
     "metadata": {},
     "output_type": "display_data"
    }
   ],
   "source": [
    "twothoumid=twothoucat[(twothoucat < 400) & (twothoucat > 100)]\n",
    "twothoumid.plot(kind=\"bar\")\n",
    "plt.title(\"Categories of 2000 Games with between 100 and 400 games\")\n",
    "len(twothoumid)"
   ]
  },
  {
   "cell_type": "code",
   "execution_count": 90,
   "metadata": {},
   "outputs": [
    {
     "data": {
      "text/plain": [
       "31"
      ]
     },
     "execution_count": 90,
     "metadata": {},
     "output_type": "execute_result"
    },
    {
     "data": {
      "image/png": "[encoded data removed]",
      "text/plain": [
       "<matplotlib.figure.Figure at 0x23c12849cf8>"
      ]
     },
     "metadata": {},
     "output_type": "display_data"
    }
   ],
   "source": [
    "twencatmid=twencat[(twencat < 400) & (twencat > 100)]\n",
    "twencatmid.plot(kind=\"bar\")\n",
    "plt.title(\"Twentieth Century Game Categories with between 100 and 400 games\")\n",
    "len(twencatmid)"
   ]
  },
  {
   "cell_type": "markdown",
   "metadata": {},
   "source": [
    "Note that many of the categories in the second graph are represented in the > 400 graph. There are also less categories in the twentieth century graph than in the two thousands graph. Whole new categories are found in the 2000s, such as Pirates, Trains, Space Exploration, and Farming, which do not exist in the earlier graph. So part of the transition was a change in the types of games that were produced, and perhaps a bit suggestively, a move towards a more wider audienence for games, which came with both more general production (i.e. card games, party games), but also more specialized niche games."
   ]
  },
  {
   "cell_type": "code",
   "execution_count": 91,
   "metadata": {},
   "outputs": [
    {
     "name": "stderr",
     "output_type": "stream",
     "text": [
      "C:\\Users\\test\\Anaconda3\\lib\\site-packages\\ipykernel_launcher.py:3: SettingWithCopyWarning: \n",
      "A value is trying to be set on a copy of a slice from a DataFrame.\n",
      "Try using .loc[row_indexer,col_indexer] = value instead\n",
      "\n",
      "See the caveats in the documentation: http://pandas.pydata.org/pandas-docs/stable/indexing.html#indexing-view-versus-copy\n",
      "  This is separate from the ipykernel package so we can avoid doing imports until\n"
     ]
    },
    {
     "data": {
      "text/plain": [
       "<matplotlib.text.Text at 0x23c14e97e80>"
      ]
     },
     "execution_count": 91,
     "metadata": {},
     "output_type": "execute_result"
    },
    {
     "data": {
      "image/png": "[encoded data removed]",
      "text/plain": [
       "<matplotlib.figure.Figure at 0x23c12250048>"
      ]
     },
     "metadata": {},
     "output_type": "display_data"
    }
   ],
   "source": [
    "games.category=games.category.astype(str)\n",
    "farming=games[games.category.str.contains(\"Farming\")]\n",
    "farming[\"decade\"]=farming.year//10*10\n",
    "farming=farming[farming.decade > 1900.0]\n",
    "farming.decade.hist(bins=20, color=\"red\")\n",
    "plt.title(\"Note the growth in farming games over time\") #this is just an example section, and it's a way to confirm my asssumption that the categories of games changed"
   ]
  },
  {
   "cell_type": "markdown",
   "metadata": {},
   "source": [
    "So far the most significant point that I have found is the difference between games in the 2000s and the rest of the 20th century."
   ]
  },
  {
   "cell_type": "markdown",
   "metadata": {},
   "source": [
    "# Did the Mechanics of Games Change in the 2000s?"
   ]
  },
  {
   "cell_type": "code",
   "execution_count": 92,
   "metadata": {},
   "outputs": [
    {
     "data": {
      "text/plain": [
       "Ttest_indResult(statistic=3.6331637310594926, pvalue=0.00044399804281258277)"
      ]
     },
     "execution_count": 92,
     "metadata": {},
     "output_type": "execute_result"
    }
   ],
   "source": [
    "mech_twencent=twencent.mechanic.str.split(',', expand=True)\n",
    "twenmech=mech_twencent.stack().value_counts()\n",
    "mech_twothousands=twothousands.mechanic.str.split(',', expand=True)\n",
    "twothoumech=mech_twothousands.stack().value_counts()  #making value counts based on twencent and twothousands dataframes\n",
    "stats.ttest_ind(twothoumech, twenmech)"
   ]
  },
  {
   "cell_type": "markdown",
   "metadata": {},
   "source": [
    "Based on this t test, there seems to be a highly significant change in the distribution of mechanics. "
   ]
  },
  {
   "cell_type": "code",
   "execution_count": 93,
   "metadata": {},
   "outputs": [
    {
     "data": {
      "text/plain": [
       "<matplotlib.text.Text at 0x23c0b057a20>"
      ]
     },
     "execution_count": 93,
     "metadata": {},
     "output_type": "execute_result"
    },
    {
     "data": {
      "image/png": "[encoded data removed]",
      "text/plain": [
       "<matplotlib.figure.Figure at 0x23c14e84da0>"
      ]
     },
     "metadata": {},
     "output_type": "display_data"
    }
   ],
   "source": [
    "twothoumechpop=twothoumech[twothoumech > 400]\n",
    "twothoumechpop.plot(kind=\"bar\", color=\"red\")\n",
    "plt.title(\"Popular 2000s Mechanics\")"
   ]
  },
  {
   "cell_type": "code",
   "execution_count": 94,
   "metadata": {},
   "outputs": [
    {
     "data": {
      "text/plain": [
       "<matplotlib.text.Text at 0x23c129761d0>"
      ]
     },
     "execution_count": 94,
     "metadata": {},
     "output_type": "execute_result"
    },
    {
     "data": {
      "image/png": "[encoded data removed]",
      "text/plain": [
       "<matplotlib.figure.Figure at 0x23c14b3afd0>"
      ]
     },
     "metadata": {},
     "output_type": "display_data"
    }
   ],
   "source": [
    "twenmechpop=twenmech[twenmech > 300]\n",
    "twenmechpop.plot(kind=\"bar\", color=\"red\")\n",
    "plt.title(\"Popular 20th Century Mechanics\")"
   ]
  },
  {
   "cell_type": "markdown",
   "metadata": {
    "collapsed": true
   },
   "source": [
    "Note the heavy emphasis on hex-and-counter games in the twentieth century (most closely associated with wargames), whereas there is much more diversity of game mechanics in the 2000s. As suggested above, one of the changes in the 2000s was a broader audience for games, which would be born out by this evidence."
   ]
  },
  {
   "cell_type": "markdown",
   "metadata": {},
   "source": [
    "# Have Games Gotten Better? "
   ]
  },
  {
   "cell_type": "code",
   "execution_count": 95,
   "metadata": {
    "collapsed": true
   },
   "outputs": [],
   "source": [
    "games.year=games.year.astype(float)\n",
    "twencent=games[(games.year > 1930) & (games.year <2000)]"
   ]
  },
  {
   "cell_type": "code",
   "execution_count": 96,
   "metadata": {},
   "outputs": [
    {
     "name": "stderr",
     "output_type": "stream",
     "text": [
      "C:\\Users\\test\\Anaconda3\\lib\\site-packages\\pandas\\core\\generic.py:2999: SettingWithCopyWarning: \n",
      "A value is trying to be set on a copy of a slice from a DataFrame.\n",
      "Try using .loc[row_indexer,col_indexer] = value instead\n",
      "\n",
      "See the caveats in the documentation: http://pandas.pydata.org/pandas-docs/stable/indexing.html#indexing-view-versus-copy\n",
      "  self[name] = value\n"
     ]
    }
   ],
   "source": [
    "twencent.geekscore=twencent.geekscore.replace(0, np.nan)\n",
    "twothousands.geekscore=twothousands.geekscore.replace(0, np.nan)"
   ]
  },
  {
   "cell_type": "code",
   "execution_count": 129,
   "metadata": {},
   "outputs": [
    {
     "data": {
      "text/plain": [
       "<matplotlib.text.Text at 0x23c0c0471d0>"
      ]
     },
     "execution_count": 129,
     "metadata": {},
     "output_type": "execute_result"
    },
    {
     "data": {
      "image/png": "[encoded data removed]",
      "text/plain": [
       "<matplotlib.figure.Figure at 0x23c109a36a0>"
      ]
     },
     "metadata": {},
     "output_type": "display_data"
    }
   ],
   "source": [
    "x=twothousands.average.hist(bins=20)\n",
    "y=twothousands.geekscore.hist(bins=20)\n",
    "z=twencent.average.hist(bins=20)\n",
    "w=twencent.geekscore.hist(bins=20)\n",
    "plt.title(\"Rating Distribution of Games\")"
   ]
  },
  {
   "cell_type": "code",
   "execution_count": 98,
   "metadata": {},
   "outputs": [
    {
     "data": {
      "text/plain": [
       "<matplotlib.axes._subplots.AxesSubplot at 0x23c0c34cc50>"
      ]
     },
     "execution_count": 98,
     "metadata": {},
     "output_type": "execute_result"
    },
    {
     "data": {
      "image/png": "[encoded data removed]",
      "text/plain": [
       "<matplotlib.figure.Figure at 0x23c122b6d30>"
      ]
     },
     "metadata": {},
     "output_type": "display_data"
    }
   ],
   "source": [
    "twothousands.geekscore.hist(bins=20)"
   ]
  },
  {
   "cell_type": "code",
   "execution_count": 99,
   "metadata": {},
   "outputs": [
    {
     "name": "stdout",
     "output_type": "stream",
     "text": [
      "Ttest_indResult(statistic=34.882802256380444, pvalue=1.1041829401430259e-259)\n"
     ]
    }
   ],
   "source": [
    "print(stats.ttest_ind(twothousands.average, twencent.average))"
   ]
  },
  {
   "cell_type": "markdown",
   "metadata": {},
   "source": [
    "The average rating of games has increased dramatically post 2000, as is shown by the highly significant t statistic comparing the twentieth century average and the 2000s average. One aspect of this is that more and better games are being produced, as is illustrated in the chart above. The geekscores have trended up, but not in a statistically significant way. Indeed, the geekscore for the games of the twentieth century is only slightly lower than that of the 2000s. One way to interpret this change is that there is more involvement in games, and thus more purchasing and more rating of games in the 2000s. "
   ]
  },
  {
   "cell_type": "markdown",
   "metadata": {
    "collapsed": true
   },
   "source": [
    "# Regression Analysis (looking for correlations)"
   ]
  },
  {
   "cell_type": "code",
   "execution_count": 100,
   "metadata": {},
   "outputs": [
    {
     "name": "stdout",
     "output_type": "stream",
     "text": [
      "                            OLS Regression Results                            \n",
      "==============================================================================\n",
      "Dep. Variable:            numcomments   R-squared:                       0.882\n",
      "Model:                            OLS   Adj. R-squared:                  0.882\n",
      "Method:                 Least Squares   F-statistic:                 1.761e+05\n",
      "Date:                Sun, 09 Jul 2017   Prob (F-statistic):               0.00\n",
      "Time:                        23:08:01   Log-Likelihood:            -1.3374e+05\n",
      "No. Observations:               23661   AIC:                         2.675e+05\n",
      "Df Residuals:                   23660   BIC:                         2.675e+05\n",
      "Df Model:                           1                                         \n",
      "Covariance Type:            nonrobust                                         \n",
      "==============================================================================\n",
      "                 coef    std err          t      P>|t|      [0.025      0.975]\n",
      "------------------------------------------------------------------------------\n",
      "owned          0.1915      0.000    419.617      0.000       0.191       0.192\n",
      "==============================================================================\n",
      "Omnibus:                    17627.472   Durbin-Watson:                   1.948\n",
      "Prob(Omnibus):                  0.000   Jarque-Bera (JB):         77144957.527\n",
      "Skew:                          -1.924   Prob(JB):                         0.00\n",
      "Kurtosis:                     282.706   Cond. No.                         1.00\n",
      "==============================================================================\n",
      "\n",
      "Warnings:\n",
      "[1] Standard Errors assume that the covariance matrix of the errors is correctly specified.\n"
     ]
    },
    {
     "data": {
      "text/plain": [
       "<matplotlib.axes._subplots.AxesSubplot at 0x23c0cdfd1d0>"
      ]
     },
     "execution_count": 100,
     "metadata": {},
     "output_type": "execute_result"
    },
    {
     "data": {
      "image/png": "[encoded data removed]",
      "text/plain": [
       "<matplotlib.figure.Figure at 0x23c0ad29a20>"
      ]
     },
     "metadata": {},
     "output_type": "display_data"
    }
   ],
   "source": [
    "comments=games[games.numcomments > 0]\n",
    "mod=sm.OLS(comments.numcomments, comments.average).fit()\n",
    "mod=sm.OLS(comments.numcomments, comments.owned).fit()\n",
    "print(mod.summary())\n",
    "sns.regplot(\"numcomments\", \"owned\", data=comments)"
   ]
  },
  {
   "cell_type": "markdown",
   "metadata": {},
   "source": [
    "The Number of Comments and the Count of Owned Games tend to be highly correlated."
   ]
  },
  {
   "cell_type": "code",
   "execution_count": 101,
   "metadata": {},
   "outputs": [
    {
     "name": "stdout",
     "output_type": "stream",
     "text": [
      "                            OLS Regression Results                            \n",
      "==============================================================================\n",
      "Dep. Variable:            numcomments   R-squared:                       0.938\n",
      "Model:                            OLS   Adj. R-squared:                  0.938\n",
      "Method:                 Least Squares   F-statistic:                 3.551e+05\n",
      "Date:                Sun, 09 Jul 2017   Prob (F-statistic):               0.00\n",
      "Time:                        23:08:03   Log-Likelihood:            -1.2617e+05\n",
      "No. Observations:               23661   AIC:                         2.523e+05\n",
      "Df Residuals:                   23660   BIC:                         2.523e+05\n",
      "Df Model:                           1                                         \n",
      "Covariance Type:            nonrobust                                         \n",
      "==============================================================================\n",
      "                 coef    std err          t      P>|t|      [0.025      0.975]\n",
      "------------------------------------------------------------------------------\n",
      "usersrated     0.2785      0.000    595.873      0.000       0.278       0.279\n",
      "==============================================================================\n",
      "Omnibus:                    37177.401   Durbin-Watson:                   1.835\n",
      "Prob(Omnibus):                  0.000   Jarque-Bera (JB):        222113297.983\n",
      "Skew:                          -9.157   Prob(JB):                         0.00\n",
      "Kurtosis:                     477.300   Cond. No.                         1.00\n",
      "==============================================================================\n",
      "\n",
      "Warnings:\n",
      "[1] Standard Errors assume that the covariance matrix of the errors is correctly specified.\n"
     ]
    },
    {
     "data": {
      "text/plain": [
       "<matplotlib.axes._subplots.AxesSubplot at 0x23c0ccec470>"
      ]
     },
     "execution_count": 101,
     "metadata": {},
     "output_type": "execute_result"
    },
    {
     "data": {
      "image/png": "[encoded data removed]",
      "text/plain": [
       "<matplotlib.figure.Figure at 0x23c0a5cad30>"
      ]
     },
     "metadata": {},
     "output_type": "display_data"
    }
   ],
   "source": [
    "mod=sm.OLS(comments.numcomments, comments.usersrated).fit()\n",
    "print(mod.summary())\n",
    "sns.regplot(\"numcomments\", \"usersrated\", data=comments)"
   ]
  },
  {
   "cell_type": "markdown",
   "metadata": {},
   "source": [
    "The Number of Comments and the Count of User Ratings of Games tend to be correlated. This makes sense, since they are probably measuring the same thing."
   ]
  },
  {
   "cell_type": "code",
   "execution_count": 102,
   "metadata": {},
   "outputs": [
    {
     "data": {
      "text/html": [
       "<table class=\"simpletable\">\n",
       "<caption>OLS Regression Results</caption>\n",
       "<tr>\n",
       "  <th>Dep. Variable:</th>         <td>average</td>     <th>  R-squared:         </th> <td>   0.985</td> \n",
       "</tr>\n",
       "<tr>\n",
       "  <th>Model:</th>                   <td>OLS</td>       <th>  Adj. R-squared:    </th> <td>   0.985</td> \n",
       "</tr>\n",
       "<tr>\n",
       "  <th>Method:</th>             <td>Least Squares</td>  <th>  F-statistic:       </th> <td>6.935e+05</td>\n",
       "</tr>\n",
       "<tr>\n",
       "  <th>Date:</th>             <td>Sun, 09 Jul 2017</td> <th>  Prob (F-statistic):</th>  <td>  0.00</td>  \n",
       "</tr>\n",
       "<tr>\n",
       "  <th>Time:</th>                 <td>23:08:05</td>     <th>  Log-Likelihood:    </th> <td> -12494.</td> \n",
       "</tr>\n",
       "<tr>\n",
       "  <th>No. Observations:</th>      <td> 10782</td>      <th>  AIC:               </th> <td>2.499e+04</td>\n",
       "</tr>\n",
       "<tr>\n",
       "  <th>Df Residuals:</th>          <td> 10781</td>      <th>  BIC:               </th> <td>2.500e+04</td>\n",
       "</tr>\n",
       "<tr>\n",
       "  <th>Df Model:</th>              <td>     1</td>      <th>                     </th>     <td> </td>    \n",
       "</tr>\n",
       "<tr>\n",
       "  <th>Covariance Type:</th>      <td>nonrobust</td>    <th>                     </th>     <td> </td>    \n",
       "</tr>\n",
       "</table>\n",
       "<table class=\"simpletable\">\n",
       "<tr>\n",
       "      <td></td>         <th>coef</th>     <th>std err</th>      <th>t</th>      <th>P>|t|</th>  <th>[0.025</th>    <th>0.975]</th>  \n",
       "</tr>\n",
       "<tr>\n",
       "  <th>geekscore</th> <td>    1.0956</td> <td>    0.001</td> <td>  832.788</td> <td> 0.000</td> <td>    1.093</td> <td>    1.098</td>\n",
       "</tr>\n",
       "</table>\n",
       "<table class=\"simpletable\">\n",
       "<tr>\n",
       "  <th>Omnibus:</th>       <td>391.532</td> <th>  Durbin-Watson:     </th> <td>   1.724</td> \n",
       "</tr>\n",
       "<tr>\n",
       "  <th>Prob(Omnibus):</th> <td> 0.000</td>  <th>  Jarque-Bera (JB):  </th> <td>1135.659</td> \n",
       "</tr>\n",
       "<tr>\n",
       "  <th>Skew:</th>          <td>-0.073</td>  <th>  Prob(JB):          </th> <td>2.48e-247</td>\n",
       "</tr>\n",
       "<tr>\n",
       "  <th>Kurtosis:</th>      <td> 4.583</td>  <th>  Cond. No.          </th> <td>    1.00</td> \n",
       "</tr>\n",
       "</table>"
      ],
      "text/plain": [
       "<class 'statsmodels.iolib.summary.Summary'>\n",
       "\"\"\"\n",
       "                            OLS Regression Results                            \n",
       "==============================================================================\n",
       "Dep. Variable:                average   R-squared:                       0.985\n",
       "Model:                            OLS   Adj. R-squared:                  0.985\n",
       "Method:                 Least Squares   F-statistic:                 6.935e+05\n",
       "Date:                Sun, 09 Jul 2017   Prob (F-statistic):               0.00\n",
       "Time:                        23:08:05   Log-Likelihood:                -12494.\n",
       "No. Observations:               10782   AIC:                         2.499e+04\n",
       "Df Residuals:                   10781   BIC:                         2.500e+04\n",
       "Df Model:                           1                                         \n",
       "Covariance Type:            nonrobust                                         \n",
       "==============================================================================\n",
       "                 coef    std err          t      P>|t|      [0.025      0.975]\n",
       "------------------------------------------------------------------------------\n",
       "geekscore      1.0956      0.001    832.788      0.000       1.093       1.098\n",
       "==============================================================================\n",
       "Omnibus:                      391.532   Durbin-Watson:                   1.724\n",
       "Prob(Omnibus):                  0.000   Jarque-Bera (JB):             1135.659\n",
       "Skew:                          -0.073   Prob(JB):                    2.48e-247\n",
       "Kurtosis:                       4.583   Cond. No.                         1.00\n",
       "==============================================================================\n",
       "\n",
       "Warnings:\n",
       "[1] Standard Errors assume that the covariance matrix of the errors is correctly specified.\n",
       "\"\"\""
      ]
     },
     "execution_count": 102,
     "metadata": {},
     "output_type": "execute_result"
    },
    {
     "data": {
      "image/png": "[encoded data removed]",
      "text/plain": [
       "<matplotlib.figure.Figure at 0x23c10cdbef0>"
      ]
     },
     "metadata": {},
     "output_type": "display_data"
    }
   ],
   "source": [
    "gs=games[games.geekscore > 0]\n",
    "sns.regplot(\"average\", \"geekscore\", data=gs)\n",
    "mod=sm.OLS(gs.average, gs.geekscore).fit()\n",
    "mod.summary() #appears to be a semi-linear relationship between average and geekscore"
   ]
  },
  {
   "cell_type": "markdown",
   "metadata": {},
   "source": [
    "There is some relationship here between averages and geekscores. It seems like higher averages have higher geekscores and lower averages have lower geekscores, although on balance, all geekscores tend to be almost linear. I'm not sure linear regression is the best model here. "
   ]
  },
  {
   "cell_type": "code",
   "execution_count": 109,
   "metadata": {},
   "outputs": [
    {
     "data": {
      "text/plain": [
       "<matplotlib.axes._subplots.AxesSubplot at 0x23c0fff0d30>"
      ]
     },
     "execution_count": 109,
     "metadata": {},
     "output_type": "execute_result"
    },
    {
     "data": {
      "image/png": "[encoded data removed]",
      "text/plain": [
       "<matplotlib.figure.Figure at 0x23c0ff36278>"
      ]
     },
     "metadata": {},
     "output_type": "display_data"
    }
   ],
   "source": [
    "mod=sm.OLS(games.trading, games.owned).fit()\n",
    "mod.summary()\n",
    "sns.regplot(games.trading, games.owned)"
   ]
  },
  {
   "cell_type": "markdown",
   "metadata": {},
   "source": [
    "It seems like there's a semi-linear relationship here as well, but again, a precondition of trading a game is owning it."
   ]
  },
  {
   "cell_type": "code",
   "execution_count": 111,
   "metadata": {},
   "outputs": [
    {
     "name": "stdout",
     "output_type": "stream",
     "text": [
      "                            OLS Regression Results                            \n",
      "==============================================================================\n",
      "Dep. Variable:                 weight   R-squared:                       0.863\n",
      "Model:                            OLS   Adj. R-squared:                  0.863\n",
      "Method:                 Least Squares   F-statistic:                 6.791e+04\n",
      "Date:                Sun, 09 Jul 2017   Prob (F-statistic):               0.00\n",
      "Time:                        23:42:53   Log-Likelihood:                -12625.\n",
      "No. Observations:               10782   AIC:                         2.525e+04\n",
      "Df Residuals:                   10781   BIC:                         2.526e+04\n",
      "Df Model:                           1                                         \n",
      "Covariance Type:            nonrobust                                         \n",
      "==============================================================================\n",
      "                 coef    std err          t      P>|t|      [0.025      0.975]\n",
      "------------------------------------------------------------------------------\n",
      "geekscore      0.3470      0.001    260.596      0.000       0.344       0.350\n",
      "==============================================================================\n",
      "Omnibus:                      613.072   Durbin-Watson:                   1.539\n",
      "Prob(Omnibus):                  0.000   Jarque-Bera (JB):              720.767\n",
      "Skew:                           0.620   Prob(JB):                    3.07e-157\n",
      "Kurtosis:                       3.256   Cond. No.                         1.00\n",
      "==============================================================================\n",
      "\n",
      "Warnings:\n",
      "[1] Standard Errors assume that the covariance matrix of the errors is correctly specified.\n"
     ]
    },
    {
     "data": {
      "text/plain": [
       "<matplotlib.axes._subplots.AxesSubplot at 0x23c0c0b1438>"
      ]
     },
     "execution_count": 111,
     "metadata": {},
     "output_type": "execute_result"
    },
    {
     "data": {
      "image/png": "[encoded data removed]",
      "text/plain": [
       "<matplotlib.figure.Figure at 0x23c10918400>"
      ]
     },
     "metadata": {},
     "output_type": "display_data"
    }
   ],
   "source": [
    "mod=sm.OLS(gs.weight, gs.geekscore).fit()\n",
    "print(mod.summary())\n",
    "sns.regplot(\"weight\", \"geekscore\", color=\"red\", data=gs)"
   ]
  },
  {
   "cell_type": "markdown",
   "metadata": {},
   "source": [
    "There's a small linear relationshp here, it looks like (weight=complexity)."
   ]
  },
  {
   "cell_type": "code",
   "execution_count": 116,
   "metadata": {},
   "outputs": [
    {
     "data": {
      "text/plain": [
       "<matplotlib.axes._subplots.AxesSubplot at 0x23c0c31ac18>"
      ]
     },
     "execution_count": 116,
     "metadata": {},
     "output_type": "execute_result"
    },
    {
     "data": {
      "image/png": "[encoded data removed]",
      "text/plain": [
       "<matplotlib.figure.Figure at 0x23c0cc94ef0>"
      ]
     },
     "metadata": {},
     "output_type": "display_data"
    }
   ],
   "source": [
    "sns.regplot(\"usersrated\", \"average\", data=games)"
   ]
  },
  {
   "cell_type": "markdown",
   "metadata": {},
   "source": [
    "This seems like there is a relationship, but a nonlinear one."
   ]
  },
  {
   "cell_type": "code",
   "execution_count": 115,
   "metadata": {},
   "outputs": [
    {
     "data": {
      "text/plain": [
       "<matplotlib.axes._subplots.AxesSubplot at 0x23c0c331fd0>"
      ]
     },
     "execution_count": 115,
     "metadata": {},
     "output_type": "execute_result"
    },
    {
     "data": {
      "image/png": "[encoded data removed]",
      "text/plain": [
       "<matplotlib.figure.Figure at 0x23c0c0bf550>"
      ]
     },
     "metadata": {},
     "output_type": "display_data"
    }
   ],
   "source": [
    "sns.regplot(\"wanting\", \"geekscore\", color=\"green\", data=gs)"
   ]
  },
  {
   "cell_type": "markdown",
   "metadata": {
    "collapsed": true
   },
   "source": [
    "# Conclusions"
   ]
  },
  {
   "cell_type": "markdown",
   "metadata": {},
   "source": [
    "* The most significant difference in this dataset is based on time; the 2000s and pre-2000 games are radically different from each other.\n",
    "* This difference extends to categories, mechanics, and ratings. I speculate that this might be part of a transition from wargames to Euro games.\n",
    "* Categories and Mechanics also play a role in ratings differences, but I have to figure out a better set of methods for accounting for that difference.\n",
    "* There are some fairly strong linear regression correlations in the data, and I have laid them out above. Some of these are surprising, but others reflect relationships of dependency between specific variables.\n",
    "* Going forward, I think there are potentially three models/questions to investigate. First, what factors provides a game with good ratings (including both geekscore and average)? This strikes as a multiple linear regression model. Second, what makes a game commericially successful? I plan to get price data from Board Game Geek and to look at copies owned/wanted as a sample of commercial success, while being aware that this material does not tell the whole story. Finally, this research has found that there are two main categories of games, whose primary feature is temporal. I'd like to make a classification model that accounts for the difference between pre and post 2000 games (inasmuch as war games and euro games are used in a vague sense--and maybe there's more to do here). "
   ]
  },
  {
   "cell_type": "code",
   "execution_count": null,
   "metadata": {
    "collapsed": true
   },
   "outputs": [],
   "source": []
  }
 ],
 "metadata": {
  "kernelspec": {
   "display_name": "Python 3",
   "language": "python",
   "name": "python3"
  },
  "language_info": {
   "codemirror_mode": {
    "name": "ipython",
    "version": 3
   },
   "file_extension": ".py",
   "mimetype": "text/x-python",
   "name": "python",
   "nbconvert_exporter": "python",
   "pygments_lexer": "ipython3",
   "version": "3.6.1"
  }
 },
 "nbformat": 4,
 "nbformat_minor": 2
}
